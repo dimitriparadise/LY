{
 "cells": [
  {
   "cell_type": "code",
   "execution_count": 172,
   "metadata": {
    "ExecuteTime": {
     "end_time": "2021-05-06T04:32:27.252506Z",
     "start_time": "2021-05-06T04:32:27.188395Z"
    }
   },
   "outputs": [],
   "source": [
    "import os\n",
    "import pandas as pd\n",
    "import numpy as np\n",
    "import matplotlib.pyplot as plt\n",
    "import seaborn as sns\n",
    "import pyLDAvis \n",
    "pyLDAvis.enable_notebook()\n",
    "%matplotlib inline\n",
    "import warnings \n",
    "warnings.filterwarnings(\"ignore\")"
   ]
  },
  {
   "cell_type": "code",
   "execution_count": 173,
   "metadata": {
    "ExecuteTime": {
     "end_time": "2021-05-06T04:32:27.574162Z",
     "start_time": "2021-05-06T04:32:27.568254Z"
    }
   },
   "outputs": [],
   "source": [
    "from nltk.corpus import stopwords \n",
    "from nltk.stem.wordnet import WordNetLemmatizer \n",
    "from nltk.stem import SnowballStemmer\n",
    "import string\n",
    "import gensim \n",
    "from gensim import corpora\n",
    "import nltk\n",
    "#https://www.zhihu.com/question/34801598\n",
    "#https://zhuanlan.zhihu.com/p/62414576\n",
    "# %load 11.py  \n",
    "#https://radimrehurek.com/gensim/models/ldamodel.html\n",
    "#https://toutiao.io/posts/c7853u/preview\n",
    "#https://nbviewer.jupyter.org/github/bmabey/pyLDAvis/blob/master/notebooks/pyLDAvis_overview.ipynb\n",
    "#https://nbviewer.jupyter.org/github/bmabey/hacker_news_topic_modelling/blob/master/HN%20Topic%20Model%20Talk.ipynb#topic=0&lambda=1&term="
   ]
  },
  {
   "cell_type": "code",
   "execution_count": 174,
   "metadata": {
    "ExecuteTime": {
     "end_time": "2021-05-06T04:32:27.956992Z",
     "start_time": "2021-05-06T04:32:27.946216Z"
    }
   },
   "outputs": [
    {
     "data": {
      "text/plain": [
       "'/Users/yuming/Desktop/Project/lingyu/sscm'"
      ]
     },
     "execution_count": 174,
     "metadata": {},
     "output_type": "execute_result"
    }
   ],
   "source": [
    "pwd"
   ]
  },
  {
   "cell_type": "code",
   "execution_count": 175,
   "metadata": {
    "ExecuteTime": {
     "end_time": "2021-05-06T04:32:28.496990Z",
     "start_time": "2021-05-06T04:32:28.415936Z"
    }
   },
   "outputs": [],
   "source": [
    "sgcm = pd.read_excel('./data.xlsx',sheet_name=\"sgcm\")\n",
    "scm = pd.read_excel('./data.xlsx',sheet_name=\"scm\")\n",
    "gcm = pd.read_excel('./data.xlsx',sheet_name=\"gscm\")"
   ]
  },
  {
   "cell_type": "markdown",
   "metadata": {},
   "source": [
    "#  clean data"
   ]
  },
  {
   "cell_type": "code",
   "execution_count": 176,
   "metadata": {
    "ExecuteTime": {
     "end_time": "2021-05-06T04:32:30.069230Z",
     "start_time": "2021-05-06T04:32:30.065468Z"
    }
   },
   "outputs": [],
   "source": [
    "#stemmer=SnowballStemmer(\"english\", ignore_stopwords=True)\n",
    "# stemmer.stem(\"runing\")"
   ]
  },
  {
   "cell_type": "code",
   "execution_count": 177,
   "metadata": {
    "ExecuteTime": {
     "end_time": "2021-05-06T04:32:30.287149Z",
     "start_time": "2021-05-06T04:32:30.281006Z"
    }
   },
   "outputs": [],
   "source": [
    "stop = set(stopwords.words('english')) \n",
    "exclude = set(string.punctuation) \n",
    "lemma = WordNetLemmatizer()"
   ]
  },
  {
   "cell_type": "code",
   "execution_count": 178,
   "metadata": {
    "ExecuteTime": {
     "end_time": "2021-05-06T04:32:30.643918Z",
     "start_time": "2021-05-06T04:32:30.640725Z"
    }
   },
   "outputs": [],
   "source": [
    "#icis.head(1)"
   ]
  },
  {
   "cell_type": "code",
   "execution_count": 179,
   "metadata": {
    "ExecuteTime": {
     "end_time": "2021-05-06T04:32:30.926301Z",
     "start_time": "2021-05-06T04:32:30.921857Z"
    }
   },
   "outputs": [],
   "source": [
    "abstract_na_sgcm=sgcm.Definition.dropna()\n",
    "abstract_na_scm=scm.Definition.dropna()\n",
    "abstract_na_gcm=gcm.Definition.dropna()"
   ]
  },
  {
   "cell_type": "code",
   "execution_count": 180,
   "metadata": {
    "ExecuteTime": {
     "end_time": "2021-05-06T04:32:31.147038Z",
     "start_time": "2021-05-06T04:32:31.145196Z"
    }
   },
   "outputs": [],
   "source": [
    "doc_complete_sgcm =abstract_na_sgcm\n",
    "doc_complete_scm =abstract_na_scm\n",
    "doc_complete_gcm =abstract_na_gcm"
   ]
  },
  {
   "cell_type": "code",
   "execution_count": null,
   "metadata": {},
   "outputs": [],
   "source": []
  },
  {
   "cell_type": "code",
   "execution_count": 181,
   "metadata": {
    "ExecuteTime": {
     "end_time": "2021-05-06T04:32:31.817709Z",
     "start_time": "2021-05-06T04:32:31.761426Z"
    }
   },
   "outputs": [],
   "source": [
    "def clean(doc):     \n",
    "    stop_free = \" \".join([i for i in doc.lower().split() if i not in stop])     \n",
    "    punc_free = ''.join(ch for ch in stop_free if ch not in exclude)\n",
    "    normalized = \" \".join(lemma.lemmatize(word) for word in punc_free.split())     \n",
    "    return normalized  \n",
    "doc_clean_sgcm = [clean(doc).split() for doc in doc_complete_sgcm]\n",
    "doc_clean_scm = [clean(doc).split() for doc in doc_complete_scm]\n",
    "doc_clean_gcm = [clean(doc).split() for doc in doc_complete_gcm]"
   ]
  },
  {
   "cell_type": "markdown",
   "metadata": {},
   "source": [
    "# prepare doc-term matrix"
   ]
  },
  {
   "cell_type": "code",
   "execution_count": 230,
   "metadata": {
    "ExecuteTime": {
     "end_time": "2021-05-06T19:38:09.149295Z",
     "start_time": "2021-05-06T19:38:09.133164Z"
    }
   },
   "outputs": [],
   "source": [
    "dictionary_sgcm = corpora.Dictionary(doc_clean_sgcm) #build index for each word\n",
    "dictionary_scm = corpora.Dictionary(doc_clean_scm)\n",
    "dictionary_gcm = corpora.Dictionary(doc_clean_gcm)\n"
   ]
  },
  {
   "cell_type": "code",
   "execution_count": 231,
   "metadata": {
    "ExecuteTime": {
     "end_time": "2021-05-06T19:38:11.385682Z",
     "start_time": "2021-05-06T19:38:11.375508Z"
    }
   },
   "outputs": [],
   "source": [
    "# assume the word 'b' is to be deleted, put its id in a variable\n",
    "del_ids_sgcm = [k for k,v in dictionary_sgcm.items() if v=='supply' or v=='chain' or v=='management']\n",
    "del_ids_scm = [k for k,v in dictionary_scm.items() if v=='supply' or v=='chain' or v=='management']\n",
    "del_ids_gcm = [k for k,v in dictionary_gcm.items() if v=='supply' or v=='chain' or v=='management']"
   ]
  },
  {
   "cell_type": "code",
   "execution_count": 232,
   "metadata": {
    "ExecuteTime": {
     "end_time": "2021-05-06T19:38:11.685563Z",
     "start_time": "2021-05-06T19:38:11.676776Z"
    }
   },
   "outputs": [],
   "source": [
    "# remove unwanted word ids from the dictionary in place\n",
    "dictionary_sgcm.filter_tokens(bad_ids=del_ids_sgcm)\n",
    "dictionary_scm.filter_tokens(bad_ids=del_ids_scm)\n",
    "dictionary_gcm.filter_tokens(bad_ids=del_ids_gcm)"
   ]
  },
  {
   "cell_type": "code",
   "execution_count": 233,
   "metadata": {
    "ExecuteTime": {
     "end_time": "2021-05-06T19:38:12.402876Z",
     "start_time": "2021-05-06T19:38:12.379280Z"
    }
   },
   "outputs": [],
   "source": [
    "#dictionary.filter_extremes(no_below=20, no_above=0.5)  # Filter out words that occur less than 20 documents, or more than 50% of the documents.\n",
    "#dictionary.compactify()\n",
    "doc_term_matrix_sgcm = [dictionary_sgcm.doc2bow(doc) for doc in doc_clean_sgcm] #build dt matrix\n",
    "doc_term_matrix_scm = [dictionary_scm.doc2bow(doc) for doc in doc_clean_scm]\n",
    "doc_term_matrix_gcm = [dictionary_gcm.doc2bow(doc) for doc in doc_clean_gcm]"
   ]
  },
  {
   "cell_type": "code",
   "execution_count": 234,
   "metadata": {
    "ExecuteTime": {
     "end_time": "2021-05-06T19:38:12.767286Z",
     "start_time": "2021-05-06T19:38:12.763292Z"
    }
   },
   "outputs": [
    {
     "name": "stdout",
     "output_type": "stream",
     "text": [
      "Number of unique tokens: 306\n",
      "Number of documents: 35\n"
     ]
    }
   ],
   "source": [
    "#Let’s see how many tokens and documents we have to train on.\n",
    "print('Number of unique tokens: %d' % len(dictionary)) \n",
    "print('Number of documents: %d' % len(doc_term_matrix))"
   ]
  },
  {
   "cell_type": "code",
   "execution_count": 235,
   "metadata": {
    "ExecuteTime": {
     "end_time": "2021-05-06T19:38:12.962466Z",
     "start_time": "2021-05-06T19:38:12.958777Z"
    }
   },
   "outputs": [],
   "source": [
    "#print(dictionary.token2id)"
   ]
  },
  {
   "cell_type": "code",
   "execution_count": null,
   "metadata": {
    "ExecuteTime": {
     "end_time": "2021-05-06T19:36:31.718103Z",
     "start_time": "2021-05-06T19:36:31.706328Z"
    }
   },
   "outputs": [],
   "source": []
  },
  {
   "cell_type": "code",
   "execution_count": null,
   "metadata": {
    "ExecuteTime": {
     "end_time": "2021-05-06T19:37:10.395693Z",
     "start_time": "2021-05-06T19:37:10.376955Z"
    }
   },
   "outputs": [],
   "source": []
  },
  {
   "cell_type": "code",
   "execution_count": null,
   "metadata": {},
   "outputs": [],
   "source": []
  },
  {
   "cell_type": "markdown",
   "metadata": {},
   "source": [
    "# build LDA"
   ]
  },
  {
   "cell_type": "code",
   "execution_count": 236,
   "metadata": {
    "ExecuteTime": {
     "end_time": "2021-05-06T19:38:14.287058Z",
     "start_time": "2021-05-06T19:38:14.281046Z"
    }
   },
   "outputs": [],
   "source": [
    "Lda_sgcm = gensim.models.ldamodel.LdaModel\n",
    "Lda_scm = gensim.models.ldamodel.LdaModel\n",
    "Lda_gcm = gensim.models.ldamodel.LdaModel"
   ]
  },
  {
   "cell_type": "code",
   "execution_count": 237,
   "metadata": {
    "ExecuteTime": {
     "end_time": "2021-05-06T19:38:16.178417Z",
     "start_time": "2021-05-06T19:38:15.161296Z"
    }
   },
   "outputs": [],
   "source": [
    "ldamodel_sgcm = Lda_sgcm(doc_term_matrix_sgcm,id2word = dictionary_sgcm, chunksize=2000,     \n",
    "               alpha='auto',     \n",
    "               eta='auto',     \n",
    "               iterations=400,     \n",
    "               num_topics=7,     \n",
    "               passes=50,     \n",
    "               eval_every=1)\n",
    "ldamodel_scm = Lda_scm(doc_term_matrix_scm,id2word = dictionary_scm, chunksize=2000,     \n",
    "               alpha='auto',     \n",
    "               eta='auto',     \n",
    "               iterations=400,     \n",
    "               num_topics=7,     \n",
    "               passes=50,     \n",
    "               eval_every=1)\n",
    "ldamodel_gcm = Lda_gcm(doc_term_matrix_gcm,id2word = dictionary_gcm, chunksize=2000,     \n",
    "               alpha='auto',     \n",
    "               eta='auto',     \n",
    "               iterations=400,     \n",
    "               num_topics=7,     \n",
    "               passes=50,     \n",
    "               eval_every=1)"
   ]
  },
  {
   "cell_type": "code",
   "execution_count": 238,
   "metadata": {
    "ExecuteTime": {
     "end_time": "2021-05-06T19:38:19.105240Z",
     "start_time": "2021-05-06T19:38:19.102415Z"
    }
   },
   "outputs": [],
   "source": [
    "#dump and load"
   ]
  },
  {
   "cell_type": "code",
   "execution_count": 239,
   "metadata": {
    "ExecuteTime": {
     "end_time": "2021-05-06T19:38:19.630392Z",
     "start_time": "2021-05-06T19:38:19.609190Z"
    }
   },
   "outputs": [],
   "source": [
    "import json\n",
    "with open(\"./doc_term_matrix_sgcm.txt\", \"w\") as fp:\n",
    "     json.dump(doc_term_matrix_sgcm, fp)\n",
    "with open(\"./doc_term_matrix_scm.txt\", \"w\") as fp:\n",
    "     json.dump(doc_term_matrix_scm, fp)\n",
    "with open(\"./doc_term_matrix_gcm.txt\", \"w\") as fp:\n",
    "     json.dump(doc_term_matrix_gcm, fp)\n"
   ]
  },
  {
   "cell_type": "code",
   "execution_count": 240,
   "metadata": {
    "ExecuteTime": {
     "end_time": "2021-05-06T19:38:19.704504Z",
     "start_time": "2021-05-06T19:38:19.698022Z"
    }
   },
   "outputs": [],
   "source": [
    "with open(\"./doc_term_matrix_sgcm.txt\", \"r\") as fp:\n",
    "     doc_term_matrix_sgcm = json.load(fp)\n",
    "with open(\"./doc_term_matrix_scm.txt\", \"r\") as fp:\n",
    "     doc_term_matrix_scm = json.load(fp)\n",
    "with open(\"./doc_term_matrix_gcm.txt\", \"r\") as fp:\n",
    "     doc_term_matrix_gcm = json.load(fp)"
   ]
  },
  {
   "cell_type": "code",
   "execution_count": 241,
   "metadata": {
    "ExecuteTime": {
     "end_time": "2021-05-06T19:38:19.775520Z",
     "start_time": "2021-05-06T19:38:19.764843Z"
    }
   },
   "outputs": [],
   "source": [
    "dictionary_sgcm.save('./dictionary_sgcm')\n",
    "dictionary_scm.save('./dictionary_scm')\n",
    "dictionary_gcm.save('./dictionary_gcm')\n",
    "dictionary_sgcm=gensim.corpora.dictionary.Dictionary.load('./dictionary_sgcm')\n",
    "dictionary_scm=gensim.corpora.dictionary.Dictionary.load('./dictionary_scm')\n",
    "dictionary_gcm=gensim.corpora.dictionary.Dictionary.load('./dictionary_gcm')"
   ]
  },
  {
   "cell_type": "code",
   "execution_count": 242,
   "metadata": {
    "ExecuteTime": {
     "end_time": "2021-05-06T19:38:19.855271Z",
     "start_time": "2021-05-06T19:38:19.845780Z"
    }
   },
   "outputs": [],
   "source": [
    "ldamodel_sgcm.save(\"./ldamodel_sgcm-7\")\n",
    "ldamodel_scm.save(\"./ldamodel_scm-7\")\n",
    "ldamodel_gcm.save(\"./ldamodel_gcm-7\")"
   ]
  },
  {
   "cell_type": "code",
   "execution_count": 243,
   "metadata": {
    "ExecuteTime": {
     "end_time": "2021-05-06T19:38:19.942700Z",
     "start_time": "2021-05-06T19:38:19.930430Z"
    }
   },
   "outputs": [],
   "source": [
    "ldamodel_sgcm_7 = Lda.load(\"./ldamodel_sgcm-7\")\n",
    "ldamodel_scm_7 = Lda.load(\"./ldamodel_scm-7\")\n",
    "ldamodel_gcm_7 = Lda.load(\"./ldamodel_gcm-7\")"
   ]
  },
  {
   "cell_type": "code",
   "execution_count": 244,
   "metadata": {
    "ExecuteTime": {
     "end_time": "2021-05-06T19:38:20.017902Z",
     "start_time": "2021-05-06T19:38:20.014603Z"
    }
   },
   "outputs": [
    {
     "data": {
      "text/plain": [
       "[('zero', 0.036885627),\n",
       " ('environment', 0.029713394),\n",
       " ('product', 0.029713383),\n",
       " ('green', 0.022541158),\n",
       " ('waste', 0.022541158),\n",
       " ('management', 0.0153689375),\n",
       " ('protection', 0.015368924),\n",
       " ('improve', 0.015368915),\n",
       " ('system', 0.015368913),\n",
       " ('characterized', 0.008196664)]"
      ]
     },
     "execution_count": 244,
     "metadata": {},
     "output_type": "execute_result"
    }
   ],
   "source": [
    "ldamodel_sgcm_7.show_topic(0, topn=10) # show specific topic with keyword"
   ]
  },
  {
   "cell_type": "code",
   "execution_count": 245,
   "metadata": {
    "ExecuteTime": {
     "end_time": "2021-05-06T19:38:20.488694Z",
     "start_time": "2021-05-06T19:38:20.479673Z"
    }
   },
   "outputs": [
    {
     "data": {
      "text/plain": [
       "[(0,\n",
       "  '0.037*\"zero\" + 0.030*\"environment\" + 0.030*\"product\" + 0.023*\"green\" + 0.023*\"waste\" + 0.015*\"management\" + 0.015*\"protection\" + 0.015*\"improve\"'),\n",
       " (1,\n",
       "  '0.067*\"environmental\" + 0.030*\"performance\" + 0.021*\"customer\" + 0.021*\"management\" + 0.021*\"dimension\" + 0.011*\"development\" + 0.011*\"material\" + 0.011*\"goal\"'),\n",
       " (2,\n",
       "  '0.026*\"material\" + 0.014*\"production\" + 0.014*\"refers\" + 0.014*\"inventory\" + 0.014*\"waste\" + 0.014*\"raw\" + 0.014*\"recovery\" + 0.014*\"product\"'),\n",
       " (3,\n",
       "  '0.031*\"sustainable\" + 0.023*\"risk\" + 0.016*\"environmental\" + 0.016*\"market\" + 0.016*\"management\" + 0.016*\"taken\" + 0.016*\"development\" + 0.016*\"product\"'),\n",
       " (4,\n",
       "  '0.048*\"management\" + 0.043*\"product\" + 0.038*\"environmental\" + 0.024*\"process\" + 0.020*\"sourcing\" + 0.020*\"material\" + 0.020*\"manufacturing\" + 0.015*\"endoflife\"'),\n",
       " (5,\n",
       "  '0.029*\"green\" + 0.029*\"þ\" + 0.029*\"logistics\" + 0.029*\"reverse\" + 0.020*\"environmental\" + 0.020*\"concern\" + 0.020*\"management\" + 0.010*\"distribution\"'),\n",
       " (6,\n",
       "  '0.033*\"environmental\" + 0.031*\"process\" + 0.031*\"management\" + 0.021*\"social\" + 0.021*\"activity\" + 0.021*\"across\" + 0.021*\"impact\" + 0.011*\"existing\"')]"
      ]
     },
     "execution_count": 245,
     "metadata": {},
     "output_type": "execute_result"
    }
   ],
   "source": [
    "ldamodel_sgcm_7.print_topics(num_topics=7, num_words=8)"
   ]
  },
  {
   "cell_type": "code",
   "execution_count": 246,
   "metadata": {
    "ExecuteTime": {
     "end_time": "2021-05-06T19:38:21.115405Z",
     "start_time": "2021-05-06T19:38:21.087335Z"
    }
   },
   "outputs": [
    {
     "name": "stdout",
     "output_type": "stream",
     "text": [
      "[(0, 0.99610776)]\n",
      "[(1, 0.9940113)]\n",
      "[(4, 0.9936221)]\n",
      "[(3, 0.9935304)]\n",
      "[(3, 0.9860063)]\n",
      "[(4, 0.9879164)]\n",
      "[(6, 0.9883182)]\n",
      "[(5, 0.9941411)]\n",
      "[(4, 0.99604803)]\n",
      "[(6, 0.987359)]\n",
      "[(4, 0.9879163)]\n",
      "[(3, 0.9961068)]\n",
      "[(4, 0.9739146)]\n",
      "[(6, 0.9923708)]\n",
      "[(3, 0.9903312)]\n",
      "[(5, 0.98740566)]\n",
      "[(5, 0.97517425)]\n",
      "[(4, 0.9941726)]\n",
      "[(1, 0.98156226)]\n",
      "[(0, 0.99424595)]\n",
      "[(6, 0.9873589)]\n",
      "[(1, 0.9893649)]\n",
      "[(1, 0.97899365)]\n",
      "[(4, 0.99330616)]\n",
      "[(2, 0.9866738)]\n",
      "[(4, 0.973915)]\n",
      "[(2, 0.99424064)]\n",
      "[(1, 0.9639104), (4, 0.010285704)]\n",
      "[(4, 0.9939098)]\n",
      "[(0, 0.99325293)]\n",
      "[(5, 0.98328894)]\n",
      "[(4, 0.992137)]\n",
      "[(1, 0.572866), (4, 0.013522204), (6, 0.38727197)]\n",
      "[(5, 0.9883613)]\n",
      "[(0, 0.97468704)]\n"
     ]
    }
   ],
   "source": [
    "for doc in ldamodel_sgcm_7.get_document_topics(doc_term_matrix_sgcm,minimum_probability=0.01,per_word_topics=False):\n",
    "    print(doc)"
   ]
  },
  {
   "cell_type": "code",
   "execution_count": 247,
   "metadata": {
    "ExecuteTime": {
     "end_time": "2021-05-06T19:38:21.622017Z",
     "start_time": "2021-05-06T19:38:21.596644Z"
    }
   },
   "outputs": [],
   "source": [
    "doc_topic_max = []  # the top topic in each doc\n",
    "doc_topic_per=[]  # the likelihood of this top topic\n",
    "for doc in ldamodel.get_document_topics(doc_term_matrix):     \n",
    "    doc_topic = []     \n",
    "    for topic in doc:         \n",
    "        doc_topic.append(topic[1])     \n",
    "    doc_topic_max.append(doc[doc_topic.index(max(doc_topic))][0]) \n",
    "    doc_topic_per.append(doc[doc_topic.index(max(doc_topic))][1])"
   ]
  },
  {
   "cell_type": "code",
   "execution_count": 248,
   "metadata": {
    "ExecuteTime": {
     "end_time": "2021-05-06T19:38:22.037560Z",
     "start_time": "2021-05-06T19:38:22.030170Z"
    }
   },
   "outputs": [
    {
     "data": {
      "text/plain": [
       "<gensim.interfaces.TransformedCorpus at 0x7fe9a818bd00>"
      ]
     },
     "execution_count": 248,
     "metadata": {},
     "output_type": "execute_result"
    }
   ],
   "source": [
    "ldamodel.get_document_topics(doc_term_matrix)"
   ]
  },
  {
   "cell_type": "code",
   "execution_count": 249,
   "metadata": {
    "ExecuteTime": {
     "end_time": "2021-05-06T19:38:22.350349Z",
     "start_time": "2021-05-06T19:38:22.344455Z"
    },
    "jupyter": {
     "outputs_hidden": true
    },
    "scrolled": true
   },
   "outputs": [
    {
     "data": {
      "text/plain": [
       "[6,\n",
       " 5,\n",
       " 5,\n",
       " 2,\n",
       " 4,\n",
       " 4,\n",
       " 6,\n",
       " 6,\n",
       " 2,\n",
       " 5,\n",
       " 6,\n",
       " 6,\n",
       " 4,\n",
       " 0,\n",
       " 0,\n",
       " 0,\n",
       " 1,\n",
       " 5,\n",
       " 2,\n",
       " 3,\n",
       " 0,\n",
       " 4,\n",
       " 1,\n",
       " 5,\n",
       " 5,\n",
       " 5,\n",
       " 1,\n",
       " 4,\n",
       " 0,\n",
       " 6,\n",
       " 1,\n",
       " 0,\n",
       " 5,\n",
       " 1,\n",
       " 6]"
      ]
     },
     "execution_count": 249,
     "metadata": {},
     "output_type": "execute_result"
    }
   ],
   "source": [
    "doc_topic_max"
   ]
  },
  {
   "cell_type": "code",
   "execution_count": 250,
   "metadata": {
    "ExecuteTime": {
     "end_time": "2021-05-06T19:38:22.752818Z",
     "start_time": "2021-05-06T19:38:22.747344Z"
    }
   },
   "outputs": [
    {
     "data": {
      "text/plain": [
       "[0.9965213,\n",
       " 0.9947164,\n",
       " 0.9938046,\n",
       " 0.9944218,\n",
       " 0.9893578,\n",
       " 0.98855025,\n",
       " 0.9888658,\n",
       " 0.9947928,\n",
       " 0.995401,\n",
       " 0.9898718,\n",
       " 0.9888658,\n",
       " 0.9965213,\n",
       " 0.97086024,\n",
       " 0.826942,\n",
       " 0.9907041,\n",
       " 0.98765093,\n",
       " 0.98323107,\n",
       " 0.99380463,\n",
       " 0.98455656,\n",
       " 0.99434286,\n",
       " 0.9876509,\n",
       " 0.9906735,\n",
       " 0.983231,\n",
       " 0.99352527,\n",
       " 0.98820835,\n",
       " 0.77935624,\n",
       " 0.99490005,\n",
       " 0.97557706,\n",
       " 0.9932191,\n",
       " 0.99366957,\n",
       " 0.983231,\n",
       " 0.9912453,\n",
       " 0.972268,\n",
       " 0.98832095,\n",
       " 0.9820584]"
      ]
     },
     "execution_count": 250,
     "metadata": {},
     "output_type": "execute_result"
    }
   ],
   "source": [
    "doc_topic_per"
   ]
  },
  {
   "cell_type": "markdown",
   "metadata": {},
   "source": [
    "# more things can do, like find the most typical document for each topic and the topics distributon and Numbers"
   ]
  },
  {
   "cell_type": "markdown",
   "metadata": {
    "ExecuteTime": {
     "end_time": "2021-03-24T22:11:13.348814Z",
     "start_time": "2021-03-24T22:11:13.344766Z"
    }
   },
   "source": [
    "# visualize topics"
   ]
  },
  {
   "cell_type": "code",
   "execution_count": 251,
   "metadata": {
    "ExecuteTime": {
     "end_time": "2021-05-06T19:38:26.112350Z",
     "start_time": "2021-05-06T19:38:23.711428Z"
    }
   },
   "outputs": [],
   "source": [
    "import warnings \n",
    "import pyLDAvis.gensim_models\n",
    "warnings.filterwarnings('ignore') \n",
    "prepared_data_sgcm = pyLDAvis.gensim_models.prepare(ldamodel_sgcm_7,doc_term_matrix_sgcm, dictionary_sgcm)\n",
    "prepared_data_scm = pyLDAvis.gensim_models.prepare(ldamodel_scm_7,doc_term_matrix_scm, dictionary_scm)\n",
    "prepared_data_gcm = pyLDAvis.gensim_models.prepare(ldamodel_gcm_7,doc_term_matrix_gcm, dictionary_gcm)"
   ]
  },
  {
   "cell_type": "code",
   "execution_count": 252,
   "metadata": {
    "ExecuteTime": {
     "end_time": "2021-05-06T19:38:26.174681Z",
     "start_time": "2021-05-06T19:38:26.160028Z"
    }
   },
   "outputs": [
    {
     "data": {
      "text/html": [
       "\n",
       "<link rel=\"stylesheet\" type=\"text/css\" href=\"https://cdn.jsdelivr.net/gh/bmabey/pyLDAvis@3.3.1/pyLDAvis/js/ldavis.v1.0.0.css\">\n",
       "\n",
       "\n",
       "<div id=\"ldavis_el114081406415229600801281949504\"></div>\n",
       "<script type=\"text/javascript\">\n",
       "\n",
       "var ldavis_el114081406415229600801281949504_data = {\"mdsDat\": {\"x\": [0.13899594743776458, -0.09949894094766851, -0.03783909142968438, -0.06207854595920644, 0.0610909983656134, 0.043878235716538046, -0.04454860318335636], \"y\": [-0.01993045119865823, -0.12117246654339953, 0.14735168365677703, 0.04865830673883705, -0.018702881518927707, -0.013121104848204057, -0.023083086286424415], \"topics\": [1, 2, 3, 4, 5, 6, 7], \"cluster\": [1, 1, 1, 1, 1, 1, 1], \"Freq\": [29.090743839724066, 16.55902548255732, 15.69646344594284, 11.37488095120666, 10.30351858609458, 10.045993147867451, 6.929374546607084]}, \"tinfo\": {\"Term\": [\"environmental\", \"zero\", \"green\", \"process\", \"performance\", \"sustainable\", \"material\", \"logistics\", \"\\u00fe\", \"reverse\", \"waste\", \"environment\", \"risk\", \"customer\", \"impact\", \"improve\", \"dimension\", \"across\", \"activity\", \"concern\", \"distribution\", \"production\", \"supplier\", \"development\", \"increasing\", \"purchasing\", \"energy\", \"market\", \"design\", \"greening\", \"delivery\", \"endoflife\", \"final\", \"stage\", \"consumer\", \"procedure\", \"closedloop\", \"thinking\", \"sourcing\", \"selection\", \"achievement\", \"coordination\", \"individual\", \"systemic\", \"transparent\", \"considering\", \"explicitly\", \"implication\", \"involved\", \"involvement\", \"lifecycles\", \"multiple\", \"planning\", \"postuse\", \"premanufacturing\", \"seamless\", \"shared\", \"sharing\", \"vision\", \"supplychain\", \"process\", \"design\", \"manufacturing\", \"life\", \"product\", \"integrating\", \"management\", \"material\", \"economic\", \"environmental\", \"sustainability\", \"company\", \"including\", \"social\", \"integration\", \"performance\", \"business\", \"interorganizational\", \"key\", \"longterm\", \"zero\", \"protection\", \"system\", \"waste\", \"addition\", \"characterized\", \"emission\", \"fivecircled\", \"flag\", \"input\", \"olympic\", \"olympics\", \"output\", \"substance\", \"toxic\", \"add\", \"brought\", \"capacity\", \"competitive\", \"consciousness\", \"original\", \"purpose\", \"say\", \"suppliers\\u2019\", \"eliminating\", \"minimizing\", \"negative\", \"preferably\", \"siderations\", \"associated\", \"environment\", \"green\", \"improve\", \"product\", \"management\", \"use\", \"activity\", \"lifecycle\", \"market\", \"resource\", \"principle\", \"supplier\", \"risk\", \"sustainable\", \"also\", \"avoiding\", \"concept\", \"looking\", \"merging\", \"problem\", \"thereby\", \"two\", \"which\", \"ability\", \"alternative\", \"availability\", \"channel\", \"complexity\", \"detect\", \"for\", \"global\", \"government\", \"include\", \"industry\", \"involving\", \"marketing\", \"mitigate\", \"platform\", \"potential\", \"recover\", \"reflection\", \"regulation\", \"development\", \"market\", \"taken\", \"product\", \"management\", \"environmental\", \"in\", \"integration\", \"social\", \"account\", \"along\", \"aspect\", \"related\", \"firm\\u2019s\", \"manufacturing\", \"sourcing\", \"\\u00fe\", \"reverse\", \"concern\", \"acquisition\", \"disposal\", \"formed\", \"good\", \"held\", \"natural\", \"policy\", \"regard\", \"relationship\", \"response\", \"reuse\", \"distributionmarketing\", \"manufacturingmaterials\", \"firm\", \"way\", \"scm\", \"combination\", \"usedproduct\", \"logistics\", \"green\", \"purchasing\", \"increasing\", \"action\", \"related\", \"firm\\u2019s\", \"ecological\", \"efficiency\", \"management\", \"environmental\", \"distribution\", \"service\", \"production\", \"social\", \"interorganizational\", \"product\", \"taken\", \"design\", \"environment\", \"issue\", \"among\", \"cooperation\", \"derived\", \"ie\", \"taking\", \"buying\", \"monitoring\", \"product\\u2019s\", \"addressed\", \"extend\", \"measure\", \"context\", \"customer\", \"dimension\", \"performance\", \"whole\", \"along\", \"plan\", \"flow\", \"capital\", \"requirement\", \"stakeholder\", \"three\", \"information\", \"well\", \"organization\\u2019s\", \"integrate\", \"improving\", \"strategic\", \"approach\", \"environmental\", \"management\", \"economic\", \"material\", \"social\", \"account\", \"company\", \"development\", \"goal\", \"sustainable\", \"improve\", \"order\", \"issue\", \"across\", \"boundary\", \"dislocated\", \"geographical\", \"mean\", \"spanning\", \"consider\", \"existing\", \"application\", \"assembly\", \"entire\", \"packaging\", \"choice\", \"making\", \"sound\", \"usable\", \"impact\", \"whole\", \"decision\", \"manage\", \"principle\", \"adding\", \"organizational\", \"responsibility\", \"conversion\", \"activity\", \"customer\", \"order\", \"process\", \"cycle\", \"social\", \"environmental\", \"management\", \"business\", \"distribution\", \"economic\", \"integration\", \"procurement\", \"product\", \"production\", \"company\", \"sustainability\", \"design\", \"set\", \"forward\", \"function\", \"generation\", \"inventory\", \"option\", \"raw\", \"recovery\", \"reducing\", \"refers\", \"shipping\", \"transport\", \"usage\", \"usually\", \"virgin\", \"warehousing\", \"ass\", \"base\", \"complex\", \"corporate\", \"implemented\", \"level\", \"mechanism\", \"plant\", \"purchasing\", \"increasing\", \"energy\", \"greening\", \"control\", \"supplier\", \"production\", \"material\", \"distribution\", \"product\", \"management\", \"logistics\", \"waste\", \"environmental\", \"improve\", \"performance\"], \"Freq\": [16.0, 4.0, 4.0, 6.0, 4.0, 3.0, 6.0, 4.0, 2.0, 2.0, 3.0, 4.0, 2.0, 2.0, 3.0, 3.0, 2.0, 1.0, 3.0, 1.0, 2.0, 2.0, 2.0, 2.0, 1.0, 1.0, 1.0, 3.0, 4.0, 1.0, 2.4963039759428165, 2.4963039759428165, 2.4963039759428165, 1.7020169597999606, 1.7020166455227186, 1.7020166455227186, 1.7020150741365085, 1.7020150741365085, 3.29059052066981, 2.4963039759428165, 0.9077261723302006, 0.9077261723302006, 0.9077261723302006, 0.9077261723302006, 0.9077261723302006, 0.9077261723302006, 0.9077261723302006, 0.9077261723302006, 0.9077261723302006, 0.9077261723302006, 0.9077261723302006, 0.9077261723302006, 0.9077261723302006, 0.9077261723302006, 0.9077261723302006, 0.9077261723302006, 0.9077261723302006, 0.9077261723302006, 0.9077261723302006, 0.9077261723302006, 4.084876279703698, 2.4963039759428165, 3.29059052066981, 1.7020166455227186, 7.262020572948218, 1.7020150741365085, 8.056304760595896, 3.29059052066981, 2.4963039759428165, 6.467814954611036, 1.7020164883840976, 1.7020166455227186, 1.7020166455227186, 2.4963039759428165, 1.7020164883840976, 1.7020983576056343, 0.9077261723302006, 0.9077261723302006, 0.9077261723302006, 0.9077261723302006, 3.5425817226277894, 1.4760672799841246, 1.4760662960736795, 2.164905487162949, 0.7872267471987936, 0.7872267471987936, 0.7872267471987936, 0.7872267471987936, 0.7872267471987936, 0.7872267471987936, 0.7872267471987936, 0.7872267471987936, 0.7872267471987936, 0.7872267471987936, 0.7872267471987936, 0.7872267471987936, 0.7872267471987936, 0.7872267471987936, 0.7872267471987936, 0.7872267471987936, 0.7872267471987936, 0.7872267471987936, 0.7872267471987936, 0.7872267471987936, 0.7872262105203689, 0.7872262105203689, 0.7872262105203689, 0.7872262105203689, 0.7872257632883484, 0.7872256738419442, 2.853743694341773, 2.164905487162949, 1.4760664749664878, 2.853742620984924, 1.4760686216801864, 0.7872267471987936, 0.7872267471987936, 0.7872267471987936, 0.7872267471987936, 0.7872267471987936, 0.7872267471987936, 0.7872267471987936, 2.1284635020153435, 2.8057064521092934, 0.7739756517234997, 0.7739756517234997, 0.7739756517234997, 0.7739756517234997, 0.7739756517234997, 0.7739756517234997, 0.7739756517234997, 0.7739756517234997, 0.7739756517234997, 0.7739756517234997, 0.7739756517234997, 0.7739756517234997, 0.7739756517234997, 0.7739756517234997, 0.7739756517234997, 0.7739756517234997, 0.7739756517234997, 0.7739756517234997, 0.7739756517234997, 0.7739756517234997, 0.7739756517234997, 0.7739756517234997, 0.7739756517234997, 0.7739756517234997, 0.7739756517234997, 0.7739756517234997, 0.7739756517234997, 0.7739756517234997, 1.451220551921393, 1.451220721495649, 1.451220551921393, 1.451220551921393, 1.451220551921393, 1.451220721495649, 0.7739756517234997, 0.7739756517234997, 0.7739756517234997, 0.7739756517234997, 0.7739756517234997, 0.7739756517234997, 0.7739756517234997, 0.7739756517234997, 0.7739756517234997, 0.7739756517234997, 1.8948303376923776, 1.8948300919189294, 1.2919263181137919, 0.6890211311113269, 0.6890211311113269, 0.6890211311113269, 0.6890211311113269, 0.6890211311113269, 0.6890211311113269, 0.6890211311113269, 0.6890211311113269, 0.6890211311113269, 0.6890211311113269, 0.6890211311113269, 0.6890210696679648, 0.6890210696679648, 0.6890210696679648, 0.6890210696679648, 0.6890210082246028, 0.6890208238945166, 0.6890208238945166, 1.8948300919189294, 1.8948303376923776, 0.6890210696679648, 0.6890210696679648, 0.6890211311113269, 0.6890211311113269, 0.6890211311113269, 0.6890210696679648, 0.6890210696679648, 1.2919263181137919, 1.2919286529615506, 0.6890245719396028, 0.6890244490528786, 0.6890243876095166, 0.6890243876095166, 0.6890242032794304, 0.6890219298750337, 0.6890211311113269, 0.6890211311113269, 0.6890211311113269, 0.6890211311113269, 0.6616492687886911, 0.6616492687886911, 0.6616492687886911, 0.6616492687886911, 0.6616492687886911, 0.6616492131324758, 0.6616491018200453, 0.6616491018200453, 0.6616491018200453, 0.6616491018200453, 0.6616491018200453, 0.6616488791951841, 1.240602974530781, 1.24060275190592, 1.8194119184569109, 0.6616491018200453, 0.6616492687886911, 0.6616492131324758, 0.6616492687886911, 0.6616492687886911, 0.6616492687886911, 0.6616492687886911, 0.6616492687886911, 0.6616492687886911, 0.6616492687886911, 0.6616492131324758, 0.6616492131324758, 0.6616491018200453, 0.6616491018200453, 0.6616491018200453, 4.015833696267411, 1.240602974530781, 0.6616492687886911, 0.6616492687886911, 0.6616492687886911, 0.6616492687886911, 0.6616492687886911, 0.6616492687886911, 0.6616492687886911, 0.6616492687886911, 0.6616492131324758, 0.6616492131324758, 0.6616492131324758, 1.228497933181501, 0.6551932685921508, 0.6551932685921508, 0.6551932685921508, 0.6551932685921508, 0.6551932685921508, 0.6551932685921508, 0.6551932685921508, 0.6551932685921508, 0.6551932685921508, 0.6551932685921508, 0.6551932685921508, 0.6551932685921508, 0.6551932685921508, 0.6551932685921508, 0.6551932685921508, 1.2280432997744772, 0.6551932685921508, 0.6551932685921508, 0.6551932685921508, 0.6551932685921508, 0.6551932685921508, 0.6551932685921508, 0.6551932685921508, 0.6551932685921508, 1.228497933181501, 0.6551932685921508, 0.6551932685921508, 1.8018012954073073, 0.6551932685921508, 1.228497933181501, 1.9201066973475065, 1.8018012954073073, 0.6551932685921508, 0.6551932685921508, 0.6551932685921508, 0.6551932685921508, 0.6551932685921508, 0.6551932685921508, 0.6551932685921508, 0.6551932685921508, 0.6551932685921508, 0.6551932685921508, 0.6551932685921508, 0.5505498075853151, 0.5505498075853151, 0.5505498075853151, 0.5505498075853151, 0.5505498075853151, 0.5505498075853151, 0.5505498075853151, 0.5505498075853151, 0.5505498075853151, 0.5505498075853151, 0.5505498075853151, 0.5505498075853151, 0.5505498075853151, 0.5505498075853151, 0.5505498075853151, 0.5505496952947151, 0.5505496952947151, 0.5505496952947151, 0.5505496952947151, 0.5505496952947151, 0.5505496952947151, 0.5505496952947151, 0.5505496952947151, 0.5505498075853151, 0.5505498075853151, 0.5505498075853151, 0.5505498075853151, 0.5505498075853151, 0.5505496952947151, 0.5505498075853151, 1.0322880103180192, 0.5505498075853151, 0.5505498075853151, 0.5505498075853151, 0.5505498075853151, 0.5505498075853151, 0.5505496952947151, 0.5505496952947151, 0.5505496952947151], \"Total\": [16.0, 4.0, 4.0, 6.0, 4.0, 3.0, 6.0, 4.0, 2.0, 2.0, 3.0, 4.0, 2.0, 2.0, 3.0, 3.0, 2.0, 1.0, 3.0, 1.0, 2.0, 2.0, 2.0, 2.0, 1.0, 1.0, 1.0, 3.0, 4.0, 1.0, 3.011014820236345, 3.011014820236345, 3.011014820236345, 2.2167278040934892, 2.2167274898162472, 2.2167274898162472, 2.216727237764498, 2.216727237764498, 4.482528099519067, 3.6882415547920733, 1.4224370166237295, 1.4224370166237295, 1.4224370166237295, 1.4224370166237295, 1.4224370166237295, 1.4224370166237295, 1.4224370166237295, 1.4224370166237295, 1.4224370166237295, 1.4224370166237295, 1.4224370166237295, 1.4224370166237295, 1.4224370166237295, 1.4224370166237295, 1.4224370166237295, 1.4224370166237295, 1.4224370166237295, 1.4224370166237295, 1.4224370166237295, 1.4224370166237295, 6.9967146421512885, 4.187199730651313, 5.658712702717225, 2.795669145987728, 13.544456197555599, 2.8196191837224367, 15.868474329834669, 6.0365326215402195, 4.852070560554917, 16.484679555141387, 3.3689616077945512, 3.3689621545266792, 3.392912277344492, 6.705493709770982, 4.156068114027951, 4.435324301176656, 2.684551032696645, 2.714149657972769, 2.1112580362257853, 2.111257971247132, 4.0723565716260595, 2.0058421289823953, 2.0058418670314544, 3.1764105522249952, 1.3170015961970643, 1.3170015961970643, 1.3170015961970643, 1.3170015961970643, 1.3170015961970643, 1.3170015961970643, 1.3170015961970643, 1.3170015961970643, 1.3170015961970643, 1.3170015961970643, 1.3170015961970643, 1.3170015961970643, 1.3170015961970643, 1.3170015961970643, 1.3170015961970643, 1.3170015961970643, 1.3170015961970643, 1.3170015961970643, 1.3170015961970643, 1.3170015961970643, 1.3170010595186394, 1.3170010595186394, 1.3170010595186394, 1.3170010595186394, 1.3170014648132675, 1.3170014291298053, 4.780667379143022, 4.503381611586934, 3.0665137789337837, 13.544456197555599, 15.868474329834669, 2.714150432000042, 3.836797636798946, 2.111258363155379, 3.2743654079262425, 3.361777939281413, 1.8902944377673698, 2.3776734674541506, 2.6598948345129863, 3.9160796077470623, 1.3054069842211424, 1.3054069842211424, 1.3054069842211424, 1.3054069842211424, 1.3054069842211424, 1.3054069842211424, 1.3054069842211424, 1.3054069842211424, 1.3054069842211424, 1.3054069842211424, 1.3054069842211424, 1.3054069842211424, 1.3054069842211424, 1.3054069842211424, 1.3054069842211424, 1.3054069842211424, 1.3054069842211424, 1.3054069842211424, 1.3054069842211424, 1.3054069842211424, 1.3054069842211424, 1.3054069842211424, 1.3054069842211424, 1.3054069842211424, 1.3054069842211424, 1.3054069842211424, 1.3054069842211424, 1.3054069842211424, 2.5615937075591617, 3.2743654079262425, 3.379800563083393, 13.544456197555599, 15.868474329834669, 16.484679555141387, 1.9942280422252998, 4.156068114027951, 6.705493709770982, 2.678605417180963, 1.8843488073612689, 2.0996629654863526, 1.9082990530658057, 1.9082990530658057, 5.658712702717225, 4.482528099519067, 2.436881525091128, 2.4368812793176797, 1.8339775055125425, 1.2310723185100774, 1.2310723185100774, 1.2310723185100774, 1.2310723185100774, 1.2310723185100774, 1.2310723185100774, 1.2310723185100774, 1.2310723185100774, 1.2310723185100774, 1.2310723185100774, 1.2310723185100774, 1.2310722570667154, 1.2310722570667154, 1.2310722570667154, 1.2310722570667154, 1.2310721956233532, 1.2310720112932672, 1.2310720112932672, 4.286161103910076, 4.503381611586934, 1.7128024731304907, 1.7128024731304907, 1.9082988834915497, 1.9082990530658057, 1.9082990530658057, 1.9082989068353156, 1.9082989068353156, 15.868474329834669, 16.484679555141387, 2.9749161384158995, 1.9198930473414981, 2.9749161329786213, 6.705493709770982, 2.714149657972769, 13.544456197555599, 3.379800563083393, 4.187199730651313, 4.780667379143022, 2.6042708529523035, 1.2071220728055405, 1.2071220728055405, 1.2071220728055405, 1.2071220728055405, 1.2071220728055405, 1.2071220171493253, 1.2071219058368947, 1.2071219058368947, 1.2071219058368947, 1.2071219058368947, 1.2071219058368947, 1.2071216832120335, 2.359368620117936, 2.580332165742463, 4.435324301176656, 1.7804147474072, 1.8843488073612689, 1.8843487517050534, 1.8959431506568227, 1.8959431533754618, 1.895943194496202, 1.8959432653876302, 2.001378682625235, 2.001378839763856, 2.001378839763856, 2.0013787841076405, 2.0013787841076405, 2.00137867279521, 2.00137867279521, 2.00137867279521, 16.484679555141387, 15.868474329834669, 4.852070560554917, 6.0365326215402195, 6.705493709770982, 2.678605417180963, 3.3689621545266792, 2.5615937075591617, 2.678605404745328, 3.9160796077470623, 3.0665137789337837, 2.469235936570913, 2.6042708529523035, 1.77477775582507, 1.2014730912357199, 1.2014730912357199, 1.2014730912357199, 1.2014730912357199, 1.2014730912357199, 1.2014730912357199, 1.2014730912357199, 1.2014730912357199, 1.2014730912357199, 1.2014730912357199, 1.2014730912357199, 1.2014730912357199, 1.2014730912357199, 1.2014730912357199, 1.2014730912357199, 3.054912699270621, 1.7804147474072, 1.8786998257914478, 1.8902941844478427, 1.8902944377673698, 1.99572907250093, 1.9957298581940348, 1.9957298581940348, 1.9957298581940348, 3.836797636798946, 2.359368620117936, 2.469235936570913, 6.9967146421512885, 2.5746715143655154, 6.705493709770982, 16.484679555141387, 15.868474329834669, 2.684551032696645, 2.9749161384158995, 4.852070560554917, 4.156068114027951, 2.68455088819515, 13.544456197555599, 2.9749161329786213, 3.3689621545266792, 3.3689616077945512, 4.187199730651313, 2.5986219270386983, 1.1099104657291896, 1.1099104657291896, 1.1099104657291896, 1.1099104657291896, 1.1099104657291896, 1.1099104657291896, 1.1099104657291896, 1.1099104657291896, 1.1099104657291896, 1.1099104657291896, 1.1099104657291896, 1.1099104657291896, 1.1099104657291896, 1.1099104657291896, 1.1099104657291896, 1.1099103534385897, 1.1099103534385897, 1.1099103534385897, 1.1099103534385897, 1.1099103534385897, 1.1099103534385897, 1.1099103534385897, 1.1099103534385897, 1.7128024731304907, 1.7128024731304907, 1.787137200284918, 1.904167232687505, 1.904167232687505, 2.3776734674541506, 2.9749161329786213, 6.0365326215402195, 2.9749161384158995, 13.544456197555599, 15.868474329834669, 4.286161103910076, 3.1764105522249952, 16.484679555141387, 3.0665137789337837, 4.435324301176656], \"Category\": [\"Default\", \"Default\", \"Default\", \"Default\", \"Default\", \"Default\", \"Default\", \"Default\", \"Default\", \"Default\", \"Default\", \"Default\", \"Default\", \"Default\", \"Default\", \"Default\", \"Default\", \"Default\", \"Default\", \"Default\", \"Default\", \"Default\", \"Default\", \"Default\", \"Default\", \"Default\", \"Default\", \"Default\", \"Default\", \"Default\", \"Topic1\", \"Topic1\", \"Topic1\", \"Topic1\", \"Topic1\", \"Topic1\", \"Topic1\", \"Topic1\", \"Topic1\", \"Topic1\", \"Topic1\", \"Topic1\", \"Topic1\", \"Topic1\", \"Topic1\", \"Topic1\", \"Topic1\", \"Topic1\", \"Topic1\", \"Topic1\", \"Topic1\", \"Topic1\", \"Topic1\", \"Topic1\", \"Topic1\", \"Topic1\", \"Topic1\", \"Topic1\", \"Topic1\", \"Topic1\", \"Topic1\", \"Topic1\", \"Topic1\", \"Topic1\", \"Topic1\", \"Topic1\", \"Topic1\", \"Topic1\", \"Topic1\", \"Topic1\", \"Topic1\", \"Topic1\", \"Topic1\", \"Topic1\", \"Topic1\", \"Topic1\", \"Topic1\", \"Topic1\", \"Topic1\", \"Topic1\", \"Topic2\", \"Topic2\", \"Topic2\", \"Topic2\", \"Topic2\", \"Topic2\", \"Topic2\", \"Topic2\", \"Topic2\", \"Topic2\", \"Topic2\", \"Topic2\", \"Topic2\", \"Topic2\", \"Topic2\", \"Topic2\", \"Topic2\", \"Topic2\", \"Topic2\", \"Topic2\", \"Topic2\", \"Topic2\", \"Topic2\", \"Topic2\", \"Topic2\", \"Topic2\", \"Topic2\", \"Topic2\", \"Topic2\", \"Topic2\", \"Topic2\", \"Topic2\", \"Topic2\", \"Topic2\", \"Topic2\", \"Topic2\", \"Topic2\", \"Topic2\", \"Topic2\", \"Topic2\", \"Topic2\", \"Topic2\", \"Topic3\", \"Topic3\", \"Topic3\", \"Topic3\", \"Topic3\", \"Topic3\", \"Topic3\", \"Topic3\", \"Topic3\", \"Topic3\", \"Topic3\", \"Topic3\", \"Topic3\", \"Topic3\", \"Topic3\", \"Topic3\", \"Topic3\", \"Topic3\", \"Topic3\", \"Topic3\", \"Topic3\", \"Topic3\", \"Topic3\", \"Topic3\", \"Topic3\", \"Topic3\", \"Topic3\", \"Topic3\", \"Topic3\", \"Topic3\", \"Topic3\", \"Topic3\", \"Topic3\", \"Topic3\", \"Topic3\", \"Topic3\", \"Topic3\", \"Topic3\", \"Topic3\", \"Topic3\", \"Topic3\", \"Topic3\", \"Topic3\", \"Topic3\", \"Topic3\", \"Topic3\", \"Topic4\", \"Topic4\", \"Topic4\", \"Topic4\", \"Topic4\", \"Topic4\", \"Topic4\", \"Topic4\", \"Topic4\", \"Topic4\", \"Topic4\", \"Topic4\", \"Topic4\", \"Topic4\", \"Topic4\", \"Topic4\", \"Topic4\", \"Topic4\", \"Topic4\", \"Topic4\", \"Topic4\", \"Topic4\", \"Topic4\", \"Topic4\", \"Topic4\", \"Topic4\", \"Topic4\", \"Topic4\", \"Topic4\", \"Topic4\", \"Topic4\", \"Topic4\", \"Topic4\", \"Topic4\", \"Topic4\", \"Topic4\", \"Topic4\", \"Topic4\", \"Topic4\", \"Topic4\", \"Topic4\", \"Topic4\", \"Topic5\", \"Topic5\", \"Topic5\", \"Topic5\", \"Topic5\", \"Topic5\", \"Topic5\", \"Topic5\", \"Topic5\", \"Topic5\", \"Topic5\", \"Topic5\", \"Topic5\", \"Topic5\", \"Topic5\", \"Topic5\", \"Topic5\", \"Topic5\", \"Topic5\", \"Topic5\", \"Topic5\", \"Topic5\", \"Topic5\", \"Topic5\", \"Topic5\", \"Topic5\", \"Topic5\", \"Topic5\", \"Topic5\", \"Topic5\", \"Topic5\", \"Topic5\", \"Topic5\", \"Topic5\", \"Topic5\", \"Topic5\", \"Topic5\", \"Topic5\", \"Topic5\", \"Topic5\", \"Topic5\", \"Topic5\", \"Topic5\", \"Topic6\", \"Topic6\", \"Topic6\", \"Topic6\", \"Topic6\", \"Topic6\", \"Topic6\", \"Topic6\", \"Topic6\", \"Topic6\", \"Topic6\", \"Topic6\", \"Topic6\", \"Topic6\", \"Topic6\", \"Topic6\", \"Topic6\", \"Topic6\", \"Topic6\", \"Topic6\", \"Topic6\", \"Topic6\", \"Topic6\", \"Topic6\", \"Topic6\", \"Topic6\", \"Topic6\", \"Topic6\", \"Topic6\", \"Topic6\", \"Topic6\", \"Topic6\", \"Topic6\", \"Topic6\", \"Topic6\", \"Topic6\", \"Topic6\", \"Topic6\", \"Topic6\", \"Topic6\", \"Topic6\", \"Topic6\", \"Topic6\", \"Topic6\", \"Topic7\", \"Topic7\", \"Topic7\", \"Topic7\", \"Topic7\", \"Topic7\", \"Topic7\", \"Topic7\", \"Topic7\", \"Topic7\", \"Topic7\", \"Topic7\", \"Topic7\", \"Topic7\", \"Topic7\", \"Topic7\", \"Topic7\", \"Topic7\", \"Topic7\", \"Topic7\", \"Topic7\", \"Topic7\", \"Topic7\", \"Topic7\", \"Topic7\", \"Topic7\", \"Topic7\", \"Topic7\", \"Topic7\", \"Topic7\", \"Topic7\", \"Topic7\", \"Topic7\", \"Topic7\", \"Topic7\", \"Topic7\", \"Topic7\", \"Topic7\", \"Topic7\"], \"logprob\": [30.0, 29.0, 28.0, 27.0, 26.0, 25.0, 24.0, 23.0, 22.0, 21.0, 20.0, 19.0, 18.0, 17.0, 16.0, 15.0, 14.0, 13.0, 12.0, 11.0, 10.0, 9.0, 8.0, 7.0, 6.0, 5.0, 4.0, 3.0, 2.0, 1.0, -4.2135, -4.2135, -4.2135, -4.5965, -4.5965, -4.5965, -4.5965, -4.5965, -3.9372, -4.2135, -5.2251, -5.2251, -5.2251, -5.2251, -5.2251, -5.2251, -5.2251, -5.2251, -5.2251, -5.2251, -5.2251, -5.2251, -5.2251, -5.2251, -5.2251, -5.2251, -5.2251, -5.2251, -5.2251, -5.2251, -3.721, -4.2135, -3.9372, -4.5965, -3.1456, -4.5965, -3.0418, -3.9372, -4.2135, -3.2614, -4.5965, -4.5965, -4.5965, -4.2135, -4.5965, -4.5964, -5.2251, -5.2251, -5.2251, -5.2251, -3.2999, -4.1754, -4.1754, -3.7924, -4.804, -4.804, -4.804, -4.804, -4.804, -4.804, -4.804, -4.804, -4.804, -4.804, -4.804, -4.804, -4.804, -4.804, -4.804, -4.804, -4.804, -4.804, -4.804, -4.804, -4.804, -4.804, -4.804, -4.804, -4.804, -4.804, -3.5162, -3.7924, -4.1754, -3.5162, -4.1754, -4.804, -4.804, -4.804, -4.804, -4.804, -4.804, -4.804, -3.7559, -3.4796, -4.7675, -4.7675, -4.7675, -4.7675, -4.7675, -4.7675, -4.7675, -4.7675, -4.7675, -4.7675, -4.7675, -4.7675, -4.7675, -4.7675, -4.7675, -4.7675, -4.7675, -4.7675, -4.7675, -4.7675, -4.7675, -4.7675, -4.7675, -4.7675, -4.7675, -4.7675, -4.7675, -4.7675, -4.1389, -4.1389, -4.1389, -4.1389, -4.1389, -4.1389, -4.7675, -4.7675, -4.7675, -4.7675, -4.7675, -4.7675, -4.7675, -4.7675, -4.7675, -4.7675, -3.5501, -3.5501, -3.9331, -4.5617, -4.5617, -4.5617, -4.5617, -4.5617, -4.5617, -4.5617, -4.5617, -4.5617, -4.5617, -4.5617, -4.5617, -4.5617, -4.5617, -4.5617, -4.5617, -4.5617, -4.5617, -3.5501, -3.5501, -4.5617, -4.5617, -4.5617, -4.5617, -4.5617, -4.5617, -4.5617, -3.9331, -3.9331, -4.5617, -4.5617, -4.5617, -4.5617, -4.5617, -4.5617, -4.5617, -4.5617, -4.5617, -4.5617, -4.5034, -4.5034, -4.5034, -4.5034, -4.5034, -4.5034, -4.5034, -4.5034, -4.5034, -4.5034, -4.5034, -4.5034, -3.8747, -3.8747, -3.4918, -4.5034, -4.5034, -4.5034, -4.5034, -4.5034, -4.5034, -4.5034, -4.5034, -4.5034, -4.5034, -4.5034, -4.5034, -4.5034, -4.5034, -4.5034, -2.7001, -3.8747, -4.5034, -4.5034, -4.5034, -4.5034, -4.5034, -4.5034, -4.5034, -4.5034, -4.5034, -4.5034, -4.5034, -3.8592, -4.4879, -4.4879, -4.4879, -4.4879, -4.4879, -4.4879, -4.4879, -4.4879, -4.4879, -4.4879, -4.4879, -4.4879, -4.4879, -4.4879, -4.4879, -3.8596, -4.4879, -4.4879, -4.4879, -4.4879, -4.4879, -4.4879, -4.4879, -4.4879, -3.8592, -4.4879, -4.4879, -3.4762, -4.4879, -3.8592, -3.4127, -3.4762, -4.4879, -4.4879, -4.4879, -4.4879, -4.4879, -4.4879, -4.4879, -4.4879, -4.4879, -4.4879, -4.4879, -4.2905, -4.2905, -4.2905, -4.2905, -4.2905, -4.2905, -4.2905, -4.2905, -4.2905, -4.2905, -4.2905, -4.2905, -4.2905, -4.2905, -4.2905, -4.2905, -4.2905, -4.2905, -4.2905, -4.2905, -4.2905, -4.2905, -4.2905, -4.2905, -4.2905, -4.2905, -4.2905, -4.2905, -4.2905, -4.2905, -3.6618, -4.2905, -4.2905, -4.2905, -4.2905, -4.2905, -4.2905, -4.2905, -4.2905], \"loglift\": [30.0, 29.0, 28.0, 27.0, 26.0, 25.0, 24.0, 23.0, 22.0, 21.0, 20.0, 19.0, 18.0, 17.0, 16.0, 15.0, 14.0, 13.0, 12.0, 11.0, 10.0, 9.0, 8.0, 7.0, 6.0, 5.0, 4.0, 3.0, 2.0, 1.0, 1.0473, 1.0473, 1.0473, 0.9705, 0.9705, 0.9705, 0.9705, 0.9705, 0.9256, 0.8444, 0.7856, 0.7856, 0.7856, 0.7856, 0.7856, 0.7856, 0.7856, 0.7856, 0.7856, 0.7856, 0.7856, 0.7856, 0.7856, 0.7856, 0.7856, 0.7856, 0.7856, 0.7856, 0.7856, 0.7856, 0.6966, 0.7175, 0.6926, 0.7385, 0.6114, 0.73, 0.5569, 0.628, 0.5702, 0.2992, 0.552, 0.552, 0.5449, 0.2466, 0.342, 0.277, 0.1504, 0.1395, 0.3907, 0.3907, 1.6589, 1.4916, 1.4916, 1.4149, 1.2836, 1.2836, 1.2836, 1.2836, 1.2836, 1.2836, 1.2836, 1.2836, 1.2836, 1.2836, 1.2836, 1.2836, 1.2836, 1.2836, 1.2836, 1.2836, 1.2836, 1.2836, 1.2836, 1.2836, 1.2836, 1.2836, 1.2836, 1.2836, 1.2836, 1.2836, 1.2823, 1.0658, 1.0671, 0.2409, -0.5767, 0.5605, 0.2144, 0.8117, 0.3729, 0.3465, 0.9223, 0.6929, 1.6288, 1.5183, 1.329, 1.329, 1.329, 1.329, 1.329, 1.329, 1.329, 1.329, 1.329, 1.329, 1.329, 1.329, 1.329, 1.329, 1.329, 1.329, 1.329, 1.329, 1.329, 1.329, 1.329, 1.329, 1.329, 1.329, 1.329, 1.329, 1.329, 1.329, 1.2835, 1.038, 1.0063, -0.3818, -0.5402, -0.5783, 0.9053, 0.171, -0.3074, 0.6102, 0.9619, 0.8537, 0.9493, 0.9493, -0.1377, 0.0953, 1.9222, 1.9222, 1.8234, 1.5934, 1.5934, 1.5934, 1.5934, 1.5934, 1.5934, 1.5934, 1.5934, 1.5934, 1.5934, 1.5934, 1.5934, 1.5934, 1.5934, 1.5934, 1.5934, 1.5934, 1.5934, 1.3575, 1.3081, 1.2631, 1.2631, 1.1551, 1.1551, 1.1551, 1.1551, 1.1551, -0.3344, -0.3725, 0.7111, 1.149, 0.7111, -0.1016, 0.8028, -0.8047, 0.5835, 0.3692, 0.2367, 0.8441, 1.6714, 1.6714, 1.6714, 1.6714, 1.6714, 1.6714, 1.6714, 1.6714, 1.6714, 1.6714, 1.6714, 1.6714, 1.6299, 1.5404, 1.3816, 1.2828, 1.2261, 1.2261, 1.2199, 1.2199, 1.2199, 1.2199, 1.1658, 1.1658, 1.1658, 1.1658, 1.1658, 1.1658, 1.1658, 1.1658, 0.8605, -0.2761, 0.2803, 0.0618, -0.0433, 0.8744, 0.6451, 0.919, 0.8744, 0.4946, 0.7391, 0.9558, 0.9025, 1.9301, 1.6916, 1.6916, 1.6916, 1.6916, 1.6916, 1.6916, 1.6916, 1.6916, 1.6916, 1.6916, 1.6916, 1.6916, 1.6916, 1.6916, 1.6916, 1.3867, 1.2983, 1.2446, 1.2384, 1.2384, 1.1842, 1.1842, 1.1842, 1.1842, 1.1592, 1.0168, 0.9713, 0.9413, 0.9294, 0.6009, 0.1479, 0.1224, 0.8877, 0.785, 0.2958, 0.4506, 0.8877, -0.7308, 0.785, 0.6606, 0.6606, 0.4431, 0.9202, 1.9683, 1.9683, 1.9683, 1.9683, 1.9683, 1.9683, 1.9683, 1.9683, 1.9683, 1.9683, 1.9683, 1.9683, 1.9683, 1.9683, 1.9683, 1.9683, 1.9683, 1.9683, 1.9683, 1.9683, 1.9683, 1.9683, 1.9683, 1.5344, 1.5344, 1.4919, 1.4285, 1.4285, 1.2064, 0.9823, 0.9033, 0.9823, -0.5334, -0.6918, 0.6172, 0.9168, -0.7299, 0.952, 0.583]}, \"token.table\": {\"Topic\": [3, 1, 3, 5, 1, 4, 6, 3, 4, 1, 2, 5, 6, 2, 1, 6, 2, 5, 3, 5, 3, 3, 5, 6, 1, 5, 1, 3, 7, 6, 2, 3, 3, 7, 6, 2, 1, 2, 6, 5, 2, 2, 5, 3, 2, 6, 1, 4, 1, 5, 6, 2, 7, 3, 3, 4, 2, 6, 1, 1, 5, 1, 7, 1, 6, 5, 1, 7, 5, 6, 1, 5, 6, 3, 6, 1, 5, 1, 4, 6, 3, 3, 5, 1, 5, 6, 4, 2, 4, 6, 7, 4, 3, 4, 1, 2, 5, 6, 3, 4, 2, 2, 1, 3, 7, 6, 1, 2, 4, 1, 2, 3, 4, 5, 6, 7, 6, 1, 5, 1, 4, 3, 4, 2, 2, 2, 5, 3, 4, 7, 7, 7, 6, 3, 1, 3, 5, 4, 3, 2, 4, 1, 7, 4, 5, 3, 4, 6, 7, 1, 2, 5, 7, 1, 5, 2, 3, 3, 1, 4, 6, 4, 7, 1, 3, 1, 5, 2, 1, 5, 1, 4, 1, 2, 3, 6, 1, 2, 4, 7, 1, 1, 3, 1, 4, 5, 1, 2, 7, 1, 5, 1, 2, 1, 1, 4, 6, 7, 1, 2, 3, 6, 2, 6, 1, 2, 3, 4, 5, 6, 7, 1, 3, 4, 6, 4, 2, 3, 4, 3, 1, 2, 5, 7, 6, 5, 7, 3, 2, 3, 5, 1, 4, 2, 2, 2, 7, 2, 5, 6, 1, 6, 1, 5, 2, 2, 6, 1, 5, 7, 3, 5, 1, 7, 3, 4, 1, 3, 2, 1, 2, 6, 3, 1, 1, 3, 6, 1, 2, 6, 1, 2, 3, 4, 6, 7, 2, 4, 6, 7, 5, 2, 4, 7, 2, 7, 3, 7, 7, 7, 3, 4, 3, 3, 4, 4, 2, 5, 1, 2, 3, 6, 4, 1, 6, 4, 4, 3, 2, 4, 1, 1, 3, 2, 4, 1, 4, 6, 1, 1, 7, 2, 1, 2, 3, 4, 5, 6, 6, 1, 3, 6, 1, 2, 5, 1, 5, 2, 2, 5, 7, 2, 1, 1, 5, 6, 3, 5, 2, 1, 1, 3, 4, 5, 3, 1, 1, 5, 2, 1, 7, 3, 6, 7, 1, 2, 4, 4, 7, 7, 1, 7, 2, 7, 4, 1, 5, 3, 5, 6, 2, 4], \"Freq\": [0.7660446221655843, 0.3733285961365774, 0.3733285961365774, 0.3733285961365774, 0.7030188249554851, 0.8122999639942063, 0.5634508302337347, 0.5240269271500771, 0.5240269271500771, 0.2606340220836624, 0.2606340220836624, 0.2606340220836624, 0.2606340220836624, 0.7593005224045066, 0.5010700168569769, 0.5010700168569769, 0.7593005224045066, 0.8284167449572564, 0.530687310169682, 0.530687310169682, 0.7660446221655843, 0.7660446221655843, 0.8284166303709811, 0.8323116075546029, 0.49965556922986376, 0.49965556922986376, 0.4762669135178876, 0.4762669135178876, 0.9009736659379032, 0.8323116075546029, 0.7593006187250224, 0.7660446221655843, 0.7660446221655843, 0.9009736659379032, 0.8323116075546029, 0.7593005224045066, 0.3725017657777565, 0.3725017657777565, 0.3725017657777565, 0.8284166685664026, 0.7593005224045066, 0.5274419743121727, 0.5274419743121727, 0.7660446221655843, 0.7593005224045066, 0.8323116075546029, 0.9022309853588207, 0.8123001667055032, 0.593654635541903, 0.2968273177709515, 0.2968273177709515, 0.7593005224045066, 0.9009736659379032, 0.7660446221655843, 0.7660446221655843, 0.5452629582392449, 0.7593005224045066, 0.8323116075546029, 0.7030188249554851, 0.9022308827711554, 0.8284168977390061, 0.5251639576785592, 0.5251639576785592, 0.501069819592174, 0.501069819592174, 0.8284166303709811, 0.7030188249554851, 0.9009736659379032, 0.4238422056956974, 0.4238422056956974, 0.3883990615581239, 0.3883990615581239, 0.3883990615581239, 0.5322830109800675, 0.5322830109800675, 0.6642278830905964, 0.8284166303709811, 0.47764619045027085, 0.23882309522513542, 0.23882309522513542, 0.7660446221655843, 0.39038197082114917, 0.39038197082114917, 0.3875470039386424, 0.3875470039386424, 0.8323116075546029, 0.8122999639942063, 0.33614392926467024, 0.33614392926467024, 0.33614392926467024, 0.33614392926467024, 0.8123000045364576, 0.5240269207397806, 0.5240269207397806, 0.41219515978581855, 0.20609757989290928, 0.20609757989290928, 0.20609757989290928, 0.5240269207397806, 0.5240269207397806, 0.7593008318197538, 0.7593005224045066, 0.6642278830905964, 0.5595541292747825, 0.5595541292747825, 0.8323116075546029, 0.209175815988114, 0.627527447964342, 0.209175815988114, 0.3639743180891052, 0.060662386348184195, 0.060662386348184195, 0.060662386348184195, 0.24264954539273678, 0.12132477269636839, 0.060662386348184195, 0.8323116075546029, 0.7030188249554851, 0.8284167449572564, 0.6642278830905964, 0.8123000045364576, 0.5240268805842749, 0.5240268805842749, 0.7593005224045066, 0.7593005224045066, 0.5274419750684846, 0.5274419750684846, 0.7660446221655843, 0.8122999639942063, 0.9009735747856197, 0.9009735747856197, 0.9009735747856197, 0.8323116075546029, 0.7660446221655843, 0.3733285978697845, 0.3733285978697845, 0.3733285978697845, 0.8122999639942063, 0.7660446221655843, 0.444110708906862, 0.444110708906862, 0.5251639576785592, 0.5251639576785592, 0.8122999639942063, 0.8284166303709811, 0.32734159645175986, 0.32734159645175986, 0.32734159645175986, 0.9009736659379032, 0.7030188249554851, 0.3261032142981913, 0.3261032142981913, 0.3261032142981913, 0.49965556922986376, 0.49965556922986376, 0.5014471659340071, 0.5014471659340071, 0.7660446221655843, 0.5894641053217345, 0.29473205266086727, 0.29473205266086727, 0.583838484406377, 0.583838484406377, 0.7030188249554851, 0.7660446221655843, 0.4996555275451951, 0.4996555275451951, 0.7593005224045066, 0.49965554144008395, 0.49965554144008395, 0.7093156450154441, 0.35465782250772204, 0.4812240668648842, 0.2406120334324421, 0.2406120334324421, 0.2406120334324421, 0.3684395210347067, 0.3684395210347067, 0.3684395210347067, 0.9009735747856197, 0.7030188249554851, 0.7030188249554851, 0.7660446221655843, 0.383984637721672, 0.383984637721672, 0.383984637721672, 0.4736512462435248, 0.4736512462435248, 0.9009736659379032, 0.7153922354762001, 0.35769611773810006, 0.47365117289835196, 0.47365117289835196, 0.7030188249554851, 0.23330900910088145, 0.4666180182017629, 0.23330900910088145, 0.23330900910088145, 0.47365126082119385, 0.47365126082119385, 0.7660446221655843, 0.8323116075546029, 0.5290181857550925, 0.5290181857550925, 0.504144244349882, 0.06301803054373525, 0.06301803054373525, 0.06301803054373525, 0.06301803054373525, 0.1260360610874705, 0.06301803054373525, 0.5301559131212735, 0.17671863770709118, 0.17671863770709118, 0.17671863770709118, 0.8123000045364576, 0.30540268889333616, 0.30540268889333616, 0.30540268889333616, 0.7660446221655843, 0.49697403925145206, 0.16565801308381736, 0.16565801308381736, 0.16565801308381736, 0.8323116075546029, 0.8284167449572564, 0.9009736659379032, 0.7660446221655843, 0.7593008318197538, 0.7660446221655843, 0.8284167449572564, 0.7030188249554851, 0.8122999639942063, 0.7593008318197538, 0.7593005224045066, 0.7593005224045066, 0.9009735747856197, 0.40498357617001307, 0.40498357617001307, 0.40498357617001307, 0.501069819592174, 0.501069819592174, 0.49965554144008395, 0.49965554144008395, 0.7593005224045066, 0.7593005224045066, 0.8323116075546029, 0.4509253132785389, 0.4509253132785389, 0.22546265663926945, 0.530687325844088, 0.530687325844088, 0.7030188249554851, 0.9009736659379032, 0.7660446221655843, 0.8122999639942063, 0.7030188249554851, 0.7660446221655843, 0.7593008318197538, 0.7030188249554851, 0.5290181148610381, 0.5290181148610381, 0.7660446221655843, 0.9022308827711554, 0.5716968898377304, 0.1429242224594326, 0.2858484449188652, 0.37250178582843324, 0.37250178582843324, 0.37250178582843324, 0.5168166147019847, 0.22149283487227914, 0.07383094495742638, 0.07383094495742638, 0.07383094495742638, 0.07383094495742638, 0.3361439298790432, 0.3361439298790432, 0.3361439298790432, 0.3361439298790432, 0.8284167449572564, 0.4985437216374154, 0.583838484406377, 0.583838484406377, 0.7593005224045066, 0.9009735747856197, 0.7660446221655843, 0.9009735747856197, 0.9009735747856197, 0.9009735747856197, 0.7660446221655843, 0.8122999639942063, 0.7660446221655843, 0.5240268805842749, 0.5240268805842749, 0.8122999639942063, 0.5274419628725872, 0.5274419628725872, 0.297461646206695, 0.297461646206695, 0.297461646206695, 0.297461646206695, 0.8122999639942063, 0.501069819592174, 0.501069819592174, 0.8122999639942063, 0.8207211475480638, 0.7519094266620471, 0.7593005224045066, 0.812300045078713, 0.7030188249554851, 0.5422638323136487, 0.27113191615682436, 0.5208623477150008, 0.5208623477150008, 0.3848193496695251, 0.3848193496695251, 0.3848193496695251, 0.7030188249554851, 0.7030188249554851, 0.9009735747856197, 0.7593005981521714, 0.29826290002862554, 0.14913145001431277, 0.14913145001431277, 0.14913145001431277, 0.14913145001431277, 0.14913145001431277, 0.8323116075546029, 0.6692651854925062, 0.22308839516416876, 0.8323116075546029, 0.9022307548571042, 0.5274419431509453, 0.5274419431509453, 0.49965556922986376, 0.49965556922986376, 0.7593005224045066, 0.4205791979799191, 0.4205791979799191, 0.4205791979799191, 0.7593005224045066, 0.7030188249554851, 0.5936547318831796, 0.2968273659415898, 0.2968273659415898, 0.7660722713770145, 0.25535742379233817, 0.4985437867442412, 0.7030188249554851, 0.295875446297843, 0.295875446297843, 0.295875446297843, 0.8284166303709811, 0.7660446221655843, 0.9022309853588207, 0.4996555667757422, 0.4996555667757422, 0.7593005224045066, 0.7030188249554851, 0.9009735747856197, 0.7660446221655843, 0.8323116075546029, 0.9009735747856197, 0.3684394159623296, 0.3684394159623296, 0.3684394159623296, 0.8123001667055032, 0.9009735747856197, 0.9009735747856197, 0.7030188249554851, 0.9009735747856197, 0.6296415299965084, 0.3148207649982542, 0.8123000045364576, 0.4996555275451951, 0.4996555275451951, 0.7660446221655843, 0.5616668820881706, 0.5616668820881706, 0.9822322602764698, 0.820721064773639], \"Term\": [\"ability\", \"account\", \"account\", \"account\", \"achievement\", \"acquisition\", \"across\", \"action\", \"action\", \"activity\", \"activity\", \"activity\", \"activity\", \"add\", \"adding\", \"adding\", \"addition\", \"addressed\", \"along\", \"along\", \"also\", \"alternative\", \"among\", \"application\", \"approach\", \"approach\", \"aspect\", \"aspect\", \"ass\", \"assembly\", \"associated\", \"availability\", \"avoiding\", \"base\", \"boundary\", \"brought\", \"business\", \"business\", \"business\", \"buying\", \"capacity\", \"capital\", \"capital\", \"channel\", \"characterized\", \"choice\", \"closedloop\", \"combination\", \"company\", \"company\", \"company\", \"competitive\", \"complex\", \"complexity\", \"concept\", \"concern\", \"consciousness\", \"consider\", \"considering\", \"consumer\", \"context\", \"control\", \"control\", \"conversion\", \"conversion\", \"cooperation\", \"coordination\", \"corporate\", \"customer\", \"customer\", \"cycle\", \"cycle\", \"cycle\", \"decision\", \"decision\", \"delivery\", \"derived\", \"design\", \"design\", \"design\", \"detect\", \"development\", \"development\", \"dimension\", \"dimension\", \"dislocated\", \"disposal\", \"distribution\", \"distribution\", \"distribution\", \"distribution\", \"distributionmarketing\", \"ecological\", \"ecological\", \"economic\", \"economic\", \"economic\", \"economic\", \"efficiency\", \"efficiency\", \"eliminating\", \"emission\", \"endoflife\", \"energy\", \"energy\", \"entire\", \"environment\", \"environment\", \"environment\", \"environmental\", \"environmental\", \"environmental\", \"environmental\", \"environmental\", \"environmental\", \"environmental\", \"existing\", \"explicitly\", \"extend\", \"final\", \"firm\", \"firm\\u2019s\", \"firm\\u2019s\", \"fivecircled\", \"flag\", \"flow\", \"flow\", \"for\", \"formed\", \"forward\", \"function\", \"generation\", \"geographical\", \"global\", \"goal\", \"goal\", \"goal\", \"good\", \"government\", \"green\", \"green\", \"greening\", \"greening\", \"held\", \"ie\", \"impact\", \"impact\", \"impact\", \"implemented\", \"implication\", \"improve\", \"improve\", \"improve\", \"improving\", \"improving\", \"in\", \"in\", \"include\", \"including\", \"including\", \"including\", \"increasing\", \"increasing\", \"individual\", \"industry\", \"information\", \"information\", \"input\", \"integrate\", \"integrate\", \"integrating\", \"integrating\", \"integration\", \"integration\", \"integration\", \"integration\", \"interorganizational\", \"interorganizational\", \"interorganizational\", \"inventory\", \"involved\", \"involvement\", \"involving\", \"issue\", \"issue\", \"issue\", \"key\", \"key\", \"level\", \"life\", \"life\", \"lifecycle\", \"lifecycle\", \"lifecycles\", \"logistics\", \"logistics\", \"logistics\", \"logistics\", \"longterm\", \"longterm\", \"looking\", \"making\", \"manage\", \"manage\", \"management\", \"management\", \"management\", \"management\", \"management\", \"management\", \"management\", \"manufacturing\", \"manufacturing\", \"manufacturing\", \"manufacturing\", \"manufacturingmaterials\", \"market\", \"market\", \"market\", \"marketing\", \"material\", \"material\", \"material\", \"material\", \"mean\", \"measure\", \"mechanism\", \"merging\", \"minimizing\", \"mitigate\", \"monitoring\", \"multiple\", \"natural\", \"negative\", \"olympic\", \"olympics\", \"option\", \"order\", \"order\", \"order\", \"organizational\", \"organizational\", \"organization\\u2019s\", \"organization\\u2019s\", \"original\", \"output\", \"packaging\", \"performance\", \"performance\", \"performance\", \"plan\", \"plan\", \"planning\", \"plant\", \"platform\", \"policy\", \"postuse\", \"potential\", \"preferably\", \"premanufacturing\", \"principle\", \"principle\", \"problem\", \"procedure\", \"process\", \"process\", \"process\", \"procurement\", \"procurement\", \"procurement\", \"product\", \"product\", \"product\", \"product\", \"product\", \"product\", \"production\", \"production\", \"production\", \"production\", \"product\\u2019s\", \"protection\", \"purchasing\", \"purchasing\", \"purpose\", \"raw\", \"recover\", \"recovery\", \"reducing\", \"refers\", \"reflection\", \"regard\", \"regulation\", \"related\", \"related\", \"relationship\", \"requirement\", \"requirement\", \"resource\", \"resource\", \"resource\", \"resource\", \"response\", \"responsibility\", \"responsibility\", \"reuse\", \"reverse\", \"risk\", \"say\", \"scm\", \"seamless\", \"selection\", \"selection\", \"service\", \"service\", \"set\", \"set\", \"set\", \"shared\", \"sharing\", \"shipping\", \"siderations\", \"social\", \"social\", \"social\", \"social\", \"social\", \"social\", \"sound\", \"sourcing\", \"sourcing\", \"spanning\", \"stage\", \"stakeholder\", \"stakeholder\", \"strategic\", \"strategic\", \"substance\", \"supplier\", \"supplier\", \"supplier\", \"suppliers\\u2019\", \"supplychain\", \"sustainability\", \"sustainability\", \"sustainability\", \"sustainable\", \"sustainable\", \"system\", \"systemic\", \"taken\", \"taken\", \"taken\", \"taking\", \"thereby\", \"thinking\", \"three\", \"three\", \"toxic\", \"transparent\", \"transport\", \"two\", \"usable\", \"usage\", \"use\", \"use\", \"use\", \"usedproduct\", \"usually\", \"virgin\", \"vision\", \"warehousing\", \"waste\", \"waste\", \"way\", \"well\", \"well\", \"which\", \"whole\", \"whole\", \"zero\", \"\\u00fe\"]}, \"R\": 30, \"lambda.step\": 0.01, \"plot.opts\": {\"xlab\": \"PC1\", \"ylab\": \"PC2\"}, \"topic.order\": [5, 1, 4, 6, 2, 7, 3]};\n",
       "\n",
       "function LDAvis_load_lib(url, callback){\n",
       "  var s = document.createElement('script');\n",
       "  s.src = url;\n",
       "  s.async = true;\n",
       "  s.onreadystatechange = s.onload = callback;\n",
       "  s.onerror = function(){console.warn(\"failed to load library \" + url);};\n",
       "  document.getElementsByTagName(\"head\")[0].appendChild(s);\n",
       "}\n",
       "\n",
       "if(typeof(LDAvis) !== \"undefined\"){\n",
       "   // already loaded: just create the visualization\n",
       "   !function(LDAvis){\n",
       "       new LDAvis(\"#\" + \"ldavis_el114081406415229600801281949504\", ldavis_el114081406415229600801281949504_data);\n",
       "   }(LDAvis);\n",
       "}else if(typeof define === \"function\" && define.amd){\n",
       "   // require.js is available: use it to load d3/LDAvis\n",
       "   require.config({paths: {d3: \"https://d3js.org/d3.v5\"}});\n",
       "   require([\"d3\"], function(d3){\n",
       "      window.d3 = d3;\n",
       "      LDAvis_load_lib(\"https://cdn.jsdelivr.net/gh/bmabey/pyLDAvis@3.3.1/pyLDAvis/js/ldavis.v3.0.0.js\", function(){\n",
       "        new LDAvis(\"#\" + \"ldavis_el114081406415229600801281949504\", ldavis_el114081406415229600801281949504_data);\n",
       "      });\n",
       "    });\n",
       "}else{\n",
       "    // require.js not available: dynamically load d3 & LDAvis\n",
       "    LDAvis_load_lib(\"https://d3js.org/d3.v5.js\", function(){\n",
       "         LDAvis_load_lib(\"https://cdn.jsdelivr.net/gh/bmabey/pyLDAvis@3.3.1/pyLDAvis/js/ldavis.v3.0.0.js\", function(){\n",
       "                 new LDAvis(\"#\" + \"ldavis_el114081406415229600801281949504\", ldavis_el114081406415229600801281949504_data);\n",
       "            })\n",
       "         });\n",
       "}\n",
       "</script>"
      ],
      "text/plain": [
       "PreparedData(topic_coordinates=              x         y  topics  cluster       Freq\n",
       "topic                                                \n",
       "4      0.138996 -0.019930       1        1  29.090744\n",
       "0     -0.099499 -0.121172       2        1  16.559025\n",
       "3     -0.037839  0.147352       3        1  15.696463\n",
       "5     -0.062079  0.048658       4        1  11.374881\n",
       "1      0.061091 -0.018703       5        1  10.303519\n",
       "6      0.043878 -0.013121       6        1  10.045993\n",
       "2     -0.044549 -0.023083       7        1   6.929375, topic_info=              Term      Freq      Total Category  logprob  loglift\n",
       "12   environmental  16.00000  16.000000  Default  30.0000  30.0000\n",
       "236           zero   4.00000   4.000000  Default  29.0000  29.0000\n",
       "206          green   4.00000   4.000000  Default  28.0000  28.0000\n",
       "63         process   6.00000   6.000000  Default  27.0000  27.0000\n",
       "62     performance   4.00000   4.000000  Default  26.0000  26.0000\n",
       "..             ...       ...        ...      ...      ...      ...\n",
       "128      logistics   0.55055   4.286161   Topic7  -4.2905   0.6172\n",
       "235          waste   0.55055   3.176411   Topic7  -4.2905   0.9168\n",
       "12   environmental   0.55055  16.484680   Topic7  -4.2905  -0.7299\n",
       "15         improve   0.55055   3.066514   Topic7  -4.2905   0.9520\n",
       "62     performance   0.55055   4.435324   Topic7  -4.2905   0.5830\n",
       "\n",
       "[336 rows x 6 columns], token_table=      Topic      Freq         Term\n",
       "term                              \n",
       "153       3  0.766045      ability\n",
       "40        1  0.373329      account\n",
       "40        3  0.373329      account\n",
       "40        5  0.373329      account\n",
       "57        1  0.703019  achievement\n",
       "...     ...       ...          ...\n",
       "78        3  0.766045        which\n",
       "193       5  0.561667        whole\n",
       "193       6  0.561667        whole\n",
       "236       2  0.982232         zero\n",
       "210       4  0.820721            þ\n",
       "\n",
       "[382 rows x 3 columns], R=30, lambda_step=0.01, plot_opts={'xlab': 'PC1', 'ylab': 'PC2'}, topic_order=[5, 1, 4, 6, 2, 7, 3])"
      ]
     },
     "execution_count": 252,
     "metadata": {},
     "output_type": "execute_result"
    }
   ],
   "source": [
    "prepared_data_sgcm"
   ]
  },
  {
   "cell_type": "code",
   "execution_count": 253,
   "metadata": {
    "ExecuteTime": {
     "end_time": "2021-05-06T19:38:26.220537Z",
     "start_time": "2021-05-06T19:38:26.211175Z"
    }
   },
   "outputs": [
    {
     "data": {
      "text/html": [
       "\n",
       "<link rel=\"stylesheet\" type=\"text/css\" href=\"https://cdn.jsdelivr.net/gh/bmabey/pyLDAvis@3.3.1/pyLDAvis/js/ldavis.v1.0.0.css\">\n",
       "\n",
       "\n",
       "<div id=\"ldavis_el114081406415229596329808932920\"></div>\n",
       "<script type=\"text/javascript\">\n",
       "\n",
       "var ldavis_el114081406415229596329808932920_data = {\"mdsDat\": {\"x\": [-0.1067225333738234, -0.0898842597826718, 0.16011146080068825, 0.039914700231315464, -0.002127630519837545, -0.015865954592739595, 0.014574217237068523], \"y\": [0.08487277627935023, -0.12441666717446336, -0.029658611826534335, 0.05933365263926842, 0.024668387677457212, -0.01719153442636069, 0.0023919968312826273], \"topics\": [1, 2, 3, 4, 5, 6, 7], \"cluster\": [1, 1, 1, 1, 1, 1, 1], \"Freq\": [35.12278769580564, 27.794979478549486, 18.672668742467486, 9.53969795081256, 4.777564459947689, 4.044954477047914, 0.04734719536922542]}, \"tinfo\": {\"Term\": [\"environmental\", \"social\", \"economic\", \"process\", \"management\", \"company\", \"taken\", \"account\", \"sustainability\", \"production\", \"three\", \"dimension\", \"manage\", \"integration\", \"risk\", \"information\", \"stage\", \"activity\", \"adding\", \"distribution\", \"service\", \"related\", \"longterm\", \"key\", \"interorganizational\", \"in\", \"use\", \"firm\\u2019s\", \"action\", \"sustainable\", \"integration\", \"interorganizational\", \"key\", \"longterm\", \"in\", \"associated\", \"competitiveness\", \"con\", \"coordinated\", \"creation\", \"designed\", \"effectively\", \"efficiently\", \"formation\", \"improve\", \"meet\", \"order\", \"organization\", \"profitability\", \"resilience\", \"short\", \"siderations\", \"system\", \"tary\", \"volun\", \"achievement\", \"coordination\", \"improving\", \"individual\", \"organization\\u2019s\", \"process\", \"business\", \"economic\", \"environmental\", \"social\", \"product\", \"sustainable\", \"capital\", \"distribution\", \"flow\", \"manage\", \"material\", \"information\", \"stage\", \"activity\", \"adding\", \"among\", \"cooperation\", \"customer\", \"derived\", \"ie\", \"taking\", \"well\", \"achieve\", \"closedloop\", \"considering\", \"conversion\", \"cycle\", \"explicitly\", \"implication\", \"involved\", \"involvement\", \"life\", \"lifecycle\", \"lifecycles\", \"logistics\", \"multiple\", \"planning\", \"postuse\", \"premanufacturing\", \"seamless\", \"shared\", \"management\", \"environmental\", \"company\", \"social\", \"economic\", \"capital\", \"flow\", \"material\", \"procurement\", \"product\", \"requirement\", \"stakeholder\", \"account\", \"along\", \"development\", \"dimension\", \"goal\", \"sustainable\", \"three\", \"risk\", \"ability\", \"alternative\", \"availability\", \"channel\", \"complexity\", \"consideration\", \"decision\", \"detect\", \"energy\", \"for\", \"global\", \"government\", \"include\", \"industry\", \"involving\", \"market\", \"marketing\", \"mitigate\", \"plan\", \"platform\", \"potential\", \"recover\", \"reflection\", \"regulation\", \"resource\", \"respond\", \"security\", \"selection\", \"substantial\", \"sustainable\", \"product\", \"development\", \"management\", \"firm\\u2019s\", \"manufacturing\", \"sourcing\", \"acquisition\", \"concern\", \"design\", \"disposal\", \"environment\", \"formed\", \"good\", \"held\", \"issue\", \"natural\", \"policy\", \"regard\", \"relationship\", \"response\", \"reuse\", \"set\", \"action\", \"firm\\u2019s\", \"use\", \"distribution\", \"service\", \"related\", \"production\", \"taken\", \"management\", \"namely\", \"one\", \"social\", \"across\", \"boundary\", \"associated\", \"business\", \"capital\", \"competitiveness\", \"across\", \"boundary\", \"dislocated\", \"geographical\", \"mean\", \"organizational\", \"responsibility\", \"spanning\", \"manage\", \"production\", \"company\", \"process\", \"namely\", \"one\", \"social\", \"acquisition\", \"concern\", \"design\", \"disposal\", \"environment\", \"formed\", \"good\", \"held\", \"issue\", \"natural\", \"policy\", \"regard\", \"relationship\", \"response\", \"reuse\", \"associated\", \"business\", \"capital\", \"competitiveness\", \"con\", \"coordinated\", \"creation\", \"designed\", \"distribution\", \"economic\", \"effectively\", \"efficiently\", \"environmental\", \"flow\", \"formation\", \"improve\", \"in\", \"namely\", \"one\", \"dimension\", \"three\", \"sustainability\", \"account\", \"taken\", \"economic\", \"management\", \"environmental\", \"social\", \"across\", \"boundary\", \"dislocated\", \"geographical\", \"mean\", \"organizational\", \"responsibility\", \"spanning\", \"acquisition\", \"concern\", \"design\", \"disposal\", \"environment\", \"formed\", \"good\", \"held\", \"issue\", \"natural\", \"policy\", \"associated\", \"business\", \"capital\", \"competitiveness\", \"con\", \"coordinated\", \"creation\", \"designed\", \"distribution\", \"effectively\", \"efficiently\", \"flow\", \"formation\", \"improve\", \"in\", \"integration\", \"interorganizational\", \"key\", \"longterm\", \"namely\", \"one\", \"across\", \"boundary\", \"dislocated\", \"geographical\", \"mean\", \"organizational\", \"responsibility\", \"spanning\", \"acquisition\", \"concern\", \"design\", \"disposal\", \"environment\", \"formed\", \"good\", \"held\", \"issue\", \"natural\", \"policy\", \"regard\", \"relationship\", \"response\", \"reuse\", \"set\", \"creating\", \"end\", \"make\", \"managerial\", \"associated\", \"business\", \"capital\", \"competitiveness\", \"con\", \"coordinated\", \"creation\", \"designed\", \"distribution\", \"economic\", \"effectively\", \"efficiently\", \"environmental\", \"flow\", \"formation\", \"improve\", \"in\", \"integration\", \"interorganizational\", \"key\", \"longterm\", \"manage\", \"material\", \"meet\", \"order\", \"organization\", \"procurement\", \"product\", \"production\", \"profitability\"], \"Freq\": [6.0, 6.0, 4.0, 3.0, 5.0, 3.0, 2.0, 2.0, 2.0, 2.0, 1.0, 1.0, 1.0, 2.0, 1.0, 1.0, 1.0, 1.0, 1.0, 1.0, 1.0, 1.0, 2.0, 2.0, 2.0, 2.0, 1.0, 1.0, 1.0, 4.0, 2.455752960605842, 1.6743720583823467, 1.6743720583823467, 1.6743720583823467, 1.6743718797822222, 0.8929892808575451, 0.8929892808575451, 0.8929892808575451, 0.8929892808575451, 0.8929892808575451, 0.8929892808575451, 0.8929892808575451, 0.8929892808575451, 0.8929892808575451, 0.8929892808575451, 0.8929892808575451, 0.8929892808575451, 0.8929892808575451, 0.8929892808575451, 0.8929892808575451, 0.8929892808575451, 0.8929892808575451, 0.8929892808575451, 0.8929892808575451, 0.8929892808575451, 0.8929892808575451, 0.8929892808575451, 0.8929892808575451, 0.8929892808575451, 0.8929892808575451, 2.455752424805469, 1.6743720583823467, 2.455752960605842, 2.455752960605842, 2.455752960605842, 1.6743718797822222, 1.6743718797822222, 0.8929892808575451, 0.8929892808575451, 0.8929892808575451, 0.8929892808575451, 0.8929892808575451, 1.5830439754479053, 1.5830439754479053, 1.5830436927717786, 1.5830435514337151, 0.8442828507511578, 0.8442828507511578, 0.8442828507511578, 0.8442828507511578, 0.8442828507511578, 0.8442828507511578, 0.8442828507511578, 0.8442828507511578, 0.8442828507511578, 0.8442828507511578, 0.8442828507511578, 0.8442828507511578, 0.8442828507511578, 0.8442828507511578, 0.8442828507511578, 0.8442828507511578, 0.8442828507511578, 0.8442828507511578, 0.8442828507511578, 0.8442828507511578, 0.8442828507511578, 0.8442828507511578, 0.8442828507511578, 0.8442828507511578, 0.8442828507511578, 0.8442828507511578, 3.060562126037563, 3.060562126037563, 1.5830439754479053, 2.3218033334188606, 1.5830436927717786, 0.8442828507511578, 0.8442828507511578, 0.8442828507511578, 0.8442828507511578, 0.8442828507511578, 0.8442828507511578, 0.8442828507511578, 0.8442828507511578, 0.8442828507511578, 0.8442828507511578, 0.8442828507511578, 0.8442828507511578, 0.8442828507511578, 0.8442828507511578, 1.4056031718766933, 0.7496502742899358, 0.7496502742899358, 0.7496502742899358, 0.7496502742899358, 0.7496502742899358, 0.7496502742899358, 0.7496502742899358, 0.7496502742899358, 0.7496502742899358, 0.7496502742899358, 0.7496502742899358, 0.7496502742899358, 0.7496502742899358, 0.7496502742899358, 0.7496502742899358, 0.7496502742899358, 0.7496502742899358, 0.7496502742899358, 0.7496502742899358, 0.7496502742899358, 0.7496502742899358, 0.7496502742899358, 0.7496502742899358, 0.7496502742899358, 0.7496502742899358, 0.7496502742899358, 0.7496502742899358, 0.7496502742899358, 0.7496502742899358, 1.4056031718766933, 0.7496502742899358, 0.7496502742899358, 0.7496502742899358, 0.7496502742899358, 0.7496502742899358, 0.7496502742899358, 0.5646241518888913, 0.5646241518888913, 0.5646241518888913, 0.5646241518888913, 0.5646241518888913, 0.5646241518888913, 0.5646241518888913, 0.5646241518888913, 0.5646241518888913, 0.5646241518888913, 0.5646241518888913, 0.5646241518888913, 0.5646241518888913, 0.5646241518888913, 0.5646241518888913, 0.5646241518888913, 0.5646241518888913, 0.5646241518888913, 0.5646241518888913, 0.5646241518888913, 0.5646241518888913, 0.5646241518888913, 0.5646241518888913, 0.5646241518888913, 0.5646241518888913, 0.07057857078244177, 0.07057857078244177, 0.5646241518888913, 0.07057857078244177, 0.07057857078244177, 0.07057857078244177, 0.07057857078244177, 0.07057857078244177, 0.07057857078244177, 0.3753295677584745, 0.3753295677584745, 0.3753295677584745, 0.3753295677584745, 0.3753295677584745, 0.3753295677584745, 0.3753295677584745, 0.3753295677584745, 0.3753295677584745, 0.3753295677584745, 0.3753295677584745, 0.3753295677584745, 0.046916481424510895, 0.046916481424510895, 0.3753295677584745, 0.046916481424510895, 0.046916481424510895, 0.046916481424510895, 0.046916481424510895, 0.046916481424510895, 0.046916481424510895, 0.046916481424510895, 0.046916481424510895, 0.046916481424510895, 0.046916481424510895, 0.046916481424510895, 0.046916481424510895, 0.046916481424510895, 0.046916481424510895, 0.046916481424510895, 0.046916481424510895, 0.046916481424510895, 0.046916481424510895, 0.046916481424510895, 0.046916481424510895, 0.046916481424510895, 0.046916481424510895, 0.046916481424510895, 0.046916481424510895, 0.046916481424510895, 0.046916481424510895, 0.046916481424510895, 0.046916481424510895, 0.046916481424510895, 0.046916481424510895, 0.046916481424510895, 0.046916481424510895, 0.3346267501550039, 0.3346267501550039, 0.3346267501550039, 0.3346267501550039, 0.3346267501550039, 0.3346267501550039, 0.3346267501550039, 0.3346267501550039, 0.3346267501550039, 0.3346267501550039, 0.3346267501550039, 0.041828582880277826, 0.041828582880277826, 0.041828582880277826, 0.041828582880277826, 0.041828582880277826, 0.041828582880277826, 0.041828582880277826, 0.041828582880277826, 0.041828582880277826, 0.041828582880277826, 0.041828582880277826, 0.041828582880277826, 0.041828582880277826, 0.041828582880277826, 0.041828582880277826, 0.041828582880277826, 0.041828582880277826, 0.041828582880277826, 0.041828582880277826, 0.041828582880277826, 0.041828582880277826, 0.041828582880277826, 0.041828582880277826, 0.041828582880277826, 0.041828582880277826, 0.041828582880277826, 0.041828582880277826, 0.041828582880277826, 0.041828582880277826, 0.041828582880277826, 0.041828582880277826, 0.041828582880277826, 0.041828582880277826, 0.041828582880277826, 0.041828582880277826, 0.041828582880277826, 0.041828582880277826, 0.041828582880277826, 0.0006912183158761922, 0.0006912183158761922, 0.0006912183158761922, 0.0006912183158761922, 0.0006912183158761922, 0.0006912183158761922, 0.0006912183158761922, 0.0006912183158761922, 0.0006912183158761922, 0.0006912183158761922, 0.0006912183158761922, 0.0006912183158761922, 0.0006912183158761922, 0.0006912183158761922, 0.0006912183158761922, 0.0006912183158761922, 0.0006912183158761922, 0.0006912183158761922, 0.0006912183158761922, 0.0006912183158761922, 0.0006912183158761922, 0.0006912183158761922, 0.0006912183158761922, 0.0006912183158761922, 0.0006912183158761922, 0.0006912183158761922, 0.0006912183158761922, 0.0006912183158761922, 0.0006912183158761922, 0.0006912183158761922, 0.0006912183158761922, 0.0006912183158761922, 0.0006912183158761922, 0.0006912183158761922, 0.0006912183158761922, 0.0006912183158761922, 0.0006912183158761922, 0.0006912183158761922, 0.0006912183158761922, 0.0006912183158761922, 0.0006912183158761922, 0.0006912183158761922, 0.0006912183158761922, 0.0006912183158761922, 0.0006912183158761922, 0.0006912183158761922, 0.0006912183158761922, 0.0006912183158761922, 0.0006912183158761922, 0.0006912183158761922, 0.0006912183158761922, 0.0006912183158761922, 0.0006912183158761922, 0.0006912183158761922, 0.0006912183158761922, 0.0006912183158761922, 0.0006912183158761922, 0.0006912183158761922, 0.0006912183158761922, 0.0006912183158761922], \"Total\": [6.0, 6.0, 4.0, 3.0, 5.0, 3.0, 2.0, 2.0, 2.0, 2.0, 1.0, 1.0, 1.0, 2.0, 1.0, 1.0, 1.0, 1.0, 1.0, 1.0, 1.0, 1.0, 2.0, 2.0, 2.0, 2.0, 1.0, 1.0, 1.0, 4.0, 2.8150121719623793, 2.0336312697388843, 2.0336312697388843, 2.0336312697388843, 2.03363109113876, 1.2522484922140826, 1.2522484922140826, 1.2522484922140826, 1.2522484922140826, 1.2522484922140826, 1.2522484922140826, 1.2522484922140826, 1.2522484922140826, 1.2522484922140826, 1.2522484922140826, 1.2522484922140826, 1.2522484922140826, 1.2522484922140826, 1.2522484922140826, 1.2522484922140826, 1.2522484922140826, 1.2522484922140826, 1.2522484922140826, 1.2522484922140826, 1.2522484922140826, 1.2522484922140826, 1.2522484922140826, 1.2522484922140826, 1.2522484922140826, 1.2522484922140826, 3.882170379508409, 2.7723769267513236, 4.585317050277261, 6.062835483543046, 6.146535358364756, 3.4283198582264225, 4.08427275581318, 1.9909943612336172, 1.746294073320532, 1.9909943612336172, 1.5806615785480462, 1.9909943612336172, 1.9483919190814432, 1.9483919190814432, 1.9483916364053164, 1.948391495067253, 1.2096307943846956, 1.2096307943846956, 1.2096307943846956, 1.2096307943846956, 1.2096307943846956, 1.2096307943846956, 1.2096307943846956, 1.2096307943846956, 1.2096307943846956, 1.2096307943846956, 1.2096307943846956, 1.2096307943846956, 1.2096307943846956, 1.2096307943846956, 1.2096307943846956, 1.2096307943846956, 1.2096307943846956, 1.2096307943846956, 1.2096307943846956, 1.2096307943846956, 1.2096307943846956, 1.2096307943846956, 1.2096307943846956, 1.2096307943846956, 1.2096307943846956, 1.2096307943846956, 5.650060282969327, 6.062835483543046, 3.0581685722643277, 6.146535358364756, 4.585317050277261, 1.9909943612336172, 1.9909943612336172, 1.9909943612336172, 1.9909943612336172, 3.4283198582264225, 1.9909943612336172, 1.9909943612336172, 2.2837925285083434, 1.9909943612336172, 2.6469372593017457, 1.5024289616594217, 2.6469371643508266, 4.08427275581318, 1.5024289616594217, 1.782780721020047, 1.1268278234332894, 1.1268278234332894, 1.1268278234332894, 1.1268278234332894, 1.1268278234332894, 1.1268278234332894, 1.1268278234332894, 1.1268278234332894, 1.1268278234332894, 1.1268278234332894, 1.1268278234332894, 1.1268278234332894, 1.1268278234332894, 1.1268278234332894, 1.1268278234332894, 1.1268278234332894, 1.1268278234332894, 1.1268278234332894, 1.1268278234332894, 1.1268278234332894, 1.1268278234332894, 1.1268278234332894, 1.1268278234332894, 1.1268278234332894, 1.1268278234332894, 1.1268278234332894, 1.1268278234332894, 1.1268278234332894, 1.1268278234332894, 4.08427275581318, 3.4283198582264225, 2.6469372593017457, 5.650060282969327, 1.6208734045397388, 1.865573692452824, 1.865573692452824, 0.9649305064716104, 0.9649305064716104, 0.9649305064716104, 0.9649305064716104, 0.9649305064716104, 0.9649305064716104, 0.9649305064716104, 0.9649305064716104, 0.9649305064716104, 0.9649305064716104, 0.9649305064716104, 0.9649305064716104, 0.9649305064716104, 0.9649305064716104, 0.9649305064716104, 0.9649305064716104, 1.6208733095888201, 1.6208734045397388, 1.703676375491145, 1.746294073320532, 1.746294073320532, 1.746294073320532, 2.074707159654496, 2.6950350437124677, 5.650060282969327, 0.7636830926398871, 0.7636830926398871, 6.146535358364756, 0.7992980116991245, 0.7992980116991245, 1.2522484922140826, 2.7723769267513236, 1.9909943612336172, 1.2522484922140826, 0.7992980116991245, 0.7992980116991245, 0.7992980116991245, 0.7992980116991245, 0.7992980116991245, 0.7992980116991245, 0.7992980116991245, 0.7992980116991245, 1.5806615785480462, 2.074707159654496, 3.0581685722643277, 3.882170379508409, 0.7636830926398871, 0.7636830926398871, 6.146535358364756, 0.9649305064716104, 0.9649305064716104, 0.9649305064716104, 0.9649305064716104, 0.9649305064716104, 0.9649305064716104, 0.9649305064716104, 0.9649305064716104, 0.9649305064716104, 0.9649305064716104, 0.9649305064716104, 0.9649305064716104, 0.9649305064716104, 0.9649305064716104, 0.9649305064716104, 1.2522484922140826, 2.7723769267513236, 1.9909943612336172, 1.2522484922140826, 1.2522484922140826, 1.2522484922140826, 1.2522484922140826, 1.2522484922140826, 1.746294073320532, 4.585317050277261, 1.2522484922140826, 1.2522484922140826, 6.062835483543046, 1.9909943612336172, 1.2522484922140826, 1.2522484922140826, 2.03363109113876, 0.7636830926398871, 0.7636830926398871, 1.5024289616594217, 1.5024289616594217, 2.283792137901124, 2.2837925285083434, 2.6950350437124677, 4.585317050277261, 5.650060282969327, 6.062835483543046, 6.146535358364756, 0.7992980116991245, 0.7992980116991245, 0.7992980116991245, 0.7992980116991245, 0.7992980116991245, 0.7992980116991245, 0.7992980116991245, 0.7992980116991245, 0.9649305064716104, 0.9649305064716104, 0.9649305064716104, 0.9649305064716104, 0.9649305064716104, 0.9649305064716104, 0.9649305064716104, 0.9649305064716104, 0.9649305064716104, 0.9649305064716104, 0.9649305064716104, 1.2522484922140826, 2.7723769267513236, 1.9909943612336172, 1.2522484922140826, 1.2522484922140826, 1.2522484922140826, 1.2522484922140826, 1.2522484922140826, 1.746294073320532, 1.2522484922140826, 1.2522484922140826, 1.9909943612336172, 1.2522484922140826, 1.2522484922140826, 2.03363109113876, 2.8150121719623793, 2.0336312697388843, 2.0336312697388843, 2.0336312697388843, 0.7636830926398871, 0.7636830926398871, 0.7992980116991245, 0.7992980116991245, 0.7992980116991245, 0.7992980116991245, 0.7992980116991245, 0.7992980116991245, 0.7992980116991245, 0.7992980116991245, 0.9649305064716104, 0.9649305064716104, 0.9649305064716104, 0.9649305064716104, 0.9649305064716104, 0.9649305064716104, 0.9649305064716104, 0.9649305064716104, 0.9649305064716104, 0.9649305064716104, 0.9649305064716104, 0.9649305064716104, 0.9649305064716104, 0.9649305064716104, 0.9649305064716104, 0.9649305064716104, 1.1268277284823707, 1.1268277284823707, 1.1268277284823707, 1.1268277284823707, 1.2522484922140826, 2.7723769267513236, 1.9909943612336172, 1.2522484922140826, 1.2522484922140826, 1.2522484922140826, 1.2522484922140826, 1.2522484922140826, 1.746294073320532, 4.585317050277261, 1.2522484922140826, 1.2522484922140826, 6.062835483543046, 1.9909943612336172, 1.2522484922140826, 1.2522484922140826, 2.03363109113876, 2.8150121719623793, 2.0336312697388843, 2.0336312697388843, 2.0336312697388843, 1.5806615785480462, 1.9909943612336172, 1.2522484922140826, 1.2522484922140826, 1.2522484922140826, 1.9909943612336172, 3.4283198582264225, 2.074707159654496, 1.2522484922140826], \"Category\": [\"Default\", \"Default\", \"Default\", \"Default\", \"Default\", \"Default\", \"Default\", \"Default\", \"Default\", \"Default\", \"Default\", \"Default\", \"Default\", \"Default\", \"Default\", \"Default\", \"Default\", \"Default\", \"Default\", \"Default\", \"Default\", \"Default\", \"Default\", \"Default\", \"Default\", \"Default\", \"Default\", \"Default\", \"Default\", \"Default\", \"Topic1\", \"Topic1\", \"Topic1\", \"Topic1\", \"Topic1\", \"Topic1\", \"Topic1\", \"Topic1\", \"Topic1\", \"Topic1\", \"Topic1\", \"Topic1\", \"Topic1\", \"Topic1\", \"Topic1\", \"Topic1\", \"Topic1\", \"Topic1\", \"Topic1\", \"Topic1\", \"Topic1\", \"Topic1\", \"Topic1\", \"Topic1\", \"Topic1\", \"Topic1\", \"Topic1\", \"Topic1\", \"Topic1\", \"Topic1\", \"Topic1\", \"Topic1\", \"Topic1\", \"Topic1\", \"Topic1\", \"Topic1\", \"Topic1\", \"Topic1\", \"Topic1\", \"Topic1\", \"Topic1\", \"Topic1\", \"Topic2\", \"Topic2\", \"Topic2\", \"Topic2\", \"Topic2\", \"Topic2\", \"Topic2\", \"Topic2\", \"Topic2\", \"Topic2\", \"Topic2\", \"Topic2\", \"Topic2\", \"Topic2\", \"Topic2\", \"Topic2\", \"Topic2\", \"Topic2\", \"Topic2\", \"Topic2\", \"Topic2\", \"Topic2\", \"Topic2\", \"Topic2\", \"Topic2\", \"Topic2\", \"Topic2\", \"Topic2\", \"Topic2\", \"Topic2\", \"Topic2\", \"Topic2\", \"Topic2\", \"Topic2\", \"Topic2\", \"Topic2\", \"Topic2\", \"Topic2\", \"Topic2\", \"Topic2\", \"Topic2\", \"Topic2\", \"Topic2\", \"Topic2\", \"Topic2\", \"Topic2\", \"Topic2\", \"Topic2\", \"Topic2\", \"Topic3\", \"Topic3\", \"Topic3\", \"Topic3\", \"Topic3\", \"Topic3\", \"Topic3\", \"Topic3\", \"Topic3\", \"Topic3\", \"Topic3\", \"Topic3\", \"Topic3\", \"Topic3\", \"Topic3\", \"Topic3\", \"Topic3\", \"Topic3\", \"Topic3\", \"Topic3\", \"Topic3\", \"Topic3\", \"Topic3\", \"Topic3\", \"Topic3\", \"Topic3\", \"Topic3\", \"Topic3\", \"Topic3\", \"Topic3\", \"Topic3\", \"Topic3\", \"Topic3\", \"Topic3\", \"Topic3\", \"Topic3\", \"Topic3\", \"Topic4\", \"Topic4\", \"Topic4\", \"Topic4\", \"Topic4\", \"Topic4\", \"Topic4\", \"Topic4\", \"Topic4\", \"Topic4\", \"Topic4\", \"Topic4\", \"Topic4\", \"Topic4\", \"Topic4\", \"Topic4\", \"Topic4\", \"Topic4\", \"Topic4\", \"Topic4\", \"Topic4\", \"Topic4\", \"Topic4\", \"Topic4\", \"Topic4\", \"Topic4\", \"Topic4\", \"Topic4\", \"Topic4\", \"Topic4\", \"Topic4\", \"Topic4\", \"Topic4\", \"Topic4\", \"Topic5\", \"Topic5\", \"Topic5\", \"Topic5\", \"Topic5\", \"Topic5\", \"Topic5\", \"Topic5\", \"Topic5\", \"Topic5\", \"Topic5\", \"Topic5\", \"Topic5\", \"Topic5\", \"Topic5\", \"Topic5\", \"Topic5\", \"Topic5\", \"Topic5\", \"Topic5\", \"Topic5\", \"Topic5\", \"Topic5\", \"Topic5\", \"Topic5\", \"Topic5\", \"Topic5\", \"Topic5\", \"Topic5\", \"Topic5\", \"Topic5\", \"Topic5\", \"Topic5\", \"Topic5\", \"Topic5\", \"Topic5\", \"Topic5\", \"Topic5\", \"Topic5\", \"Topic5\", \"Topic5\", \"Topic5\", \"Topic5\", \"Topic5\", \"Topic5\", \"Topic5\", \"Topic5\", \"Topic6\", \"Topic6\", \"Topic6\", \"Topic6\", \"Topic6\", \"Topic6\", \"Topic6\", \"Topic6\", \"Topic6\", \"Topic6\", \"Topic6\", \"Topic6\", \"Topic6\", \"Topic6\", \"Topic6\", \"Topic6\", \"Topic6\", \"Topic6\", \"Topic6\", \"Topic6\", \"Topic6\", \"Topic6\", \"Topic6\", \"Topic6\", \"Topic6\", \"Topic6\", \"Topic6\", \"Topic6\", \"Topic6\", \"Topic6\", \"Topic6\", \"Topic6\", \"Topic6\", \"Topic6\", \"Topic6\", \"Topic6\", \"Topic6\", \"Topic6\", \"Topic6\", \"Topic6\", \"Topic6\", \"Topic6\", \"Topic6\", \"Topic6\", \"Topic6\", \"Topic6\", \"Topic6\", \"Topic6\", \"Topic6\", \"Topic7\", \"Topic7\", \"Topic7\", \"Topic7\", \"Topic7\", \"Topic7\", \"Topic7\", \"Topic7\", \"Topic7\", \"Topic7\", \"Topic7\", \"Topic7\", \"Topic7\", \"Topic7\", \"Topic7\", \"Topic7\", \"Topic7\", \"Topic7\", \"Topic7\", \"Topic7\", \"Topic7\", \"Topic7\", \"Topic7\", \"Topic7\", \"Topic7\", \"Topic7\", \"Topic7\", \"Topic7\", \"Topic7\", \"Topic7\", \"Topic7\", \"Topic7\", \"Topic7\", \"Topic7\", \"Topic7\", \"Topic7\", \"Topic7\", \"Topic7\", \"Topic7\", \"Topic7\", \"Topic7\", \"Topic7\", \"Topic7\", \"Topic7\", \"Topic7\", \"Topic7\", \"Topic7\", \"Topic7\", \"Topic7\", \"Topic7\", \"Topic7\", \"Topic7\", \"Topic7\", \"Topic7\", \"Topic7\", \"Topic7\", \"Topic7\", \"Topic7\", \"Topic7\", \"Topic7\"], \"logprob\": [30.0, 29.0, 28.0, 27.0, 26.0, 25.0, 24.0, 23.0, 22.0, 21.0, 20.0, 19.0, 18.0, 17.0, 16.0, 15.0, 14.0, 13.0, 12.0, 11.0, 10.0, 9.0, 8.0, 7.0, 6.0, 5.0, 4.0, 3.0, 2.0, 1.0, -3.6647, -4.0477, -4.0477, -4.0477, -4.0477, -4.6763, -4.6763, -4.6763, -4.6763, -4.6763, -4.6763, -4.6763, -4.6763, -4.6763, -4.6763, -4.6763, -4.6763, -4.6763, -4.6763, -4.6763, -4.6763, -4.6763, -4.6763, -4.6763, -4.6763, -4.6763, -4.6763, -4.6763, -4.6763, -4.6763, -3.6647, -4.0477, -3.6647, -3.6647, -3.6647, -4.0477, -4.0477, -4.6763, -4.6763, -4.6763, -4.6763, -4.6763, -3.8698, -3.8698, -3.8698, -3.8698, -4.4984, -4.4984, -4.4984, -4.4984, -4.4984, -4.4984, -4.4984, -4.4984, -4.4984, -4.4984, -4.4984, -4.4984, -4.4984, -4.4984, -4.4984, -4.4984, -4.4984, -4.4984, -4.4984, -4.4984, -4.4984, -4.4984, -4.4984, -4.4984, -4.4984, -4.4984, -3.2106, -3.2106, -3.8698, -3.4868, -3.8698, -4.4984, -4.4984, -4.4984, -4.4984, -4.4984, -4.4984, -4.4984, -4.4984, -4.4984, -4.4984, -4.4984, -4.4984, -4.4984, -4.4984, -3.5909, -4.2195, -4.2195, -4.2195, -4.2195, -4.2195, -4.2195, -4.2195, -4.2195, -4.2195, -4.2195, -4.2195, -4.2195, -4.2195, -4.2195, -4.2195, -4.2195, -4.2195, -4.2195, -4.2195, -4.2195, -4.2195, -4.2195, -4.2195, -4.2195, -4.2195, -4.2195, -4.2195, -4.2195, -4.2195, -3.5909, -4.2195, -4.2195, -4.2195, -4.2195, -4.2195, -4.2195, -3.8314, -3.8314, -3.8314, -3.8314, -3.8314, -3.8314, -3.8314, -3.8314, -3.8314, -3.8314, -3.8314, -3.8314, -3.8314, -3.8314, -3.8314, -3.8314, -3.8314, -3.8314, -3.8314, -3.8314, -3.8314, -3.8314, -3.8314, -3.8314, -3.8314, -5.9108, -5.9108, -3.8314, -5.9108, -5.9108, -5.9108, -5.9108, -5.9108, -5.9108, -3.5482, -3.5482, -3.5482, -3.5482, -3.5482, -3.5482, -3.5482, -3.5482, -3.5482, -3.5482, -3.5482, -3.5482, -5.6276, -5.6276, -3.5482, -5.6276, -5.6276, -5.6276, -5.6276, -5.6276, -5.6276, -5.6276, -5.6276, -5.6276, -5.6276, -5.6276, -5.6276, -5.6276, -5.6276, -5.6276, -5.6276, -5.6276, -5.6276, -5.6276, -5.6276, -5.6276, -5.6276, -5.6276, -5.6276, -5.6276, -5.6276, -5.6276, -5.6276, -5.6276, -5.6276, -5.6276, -5.6276, -3.4965, -3.4965, -3.4965, -3.4965, -3.4965, -3.4965, -3.4965, -3.4965, -3.4965, -3.4965, -3.4965, -5.5759, -5.5759, -5.5759, -5.5759, -5.5759, -5.5759, -5.5759, -5.5759, -5.5759, -5.5759, -5.5759, -5.5759, -5.5759, -5.5759, -5.5759, -5.5759, -5.5759, -5.5759, -5.5759, -5.5759, -5.5759, -5.5759, -5.5759, -5.5759, -5.5759, -5.5759, -5.5759, -5.5759, -5.5759, -5.5759, -5.5759, -5.5759, -5.5759, -5.5759, -5.5759, -5.5759, -5.5759, -5.5759, -5.2311, -5.2311, -5.2311, -5.2311, -5.2311, -5.2311, -5.2311, -5.2311, -5.2311, -5.2311, -5.2311, -5.2311, -5.2311, -5.2311, -5.2311, -5.2311, -5.2311, -5.2311, -5.2311, -5.2311, -5.2311, -5.2311, -5.2311, -5.2311, -5.2311, -5.2311, -5.2311, -5.2311, -5.2311, -5.2311, -5.2311, -5.2311, -5.2311, -5.2311, -5.2311, -5.2311, -5.2311, -5.2311, -5.2311, -5.2311, -5.2311, -5.2311, -5.2311, -5.2311, -5.2311, -5.2311, -5.2311, -5.2311, -5.2311, -5.2311, -5.2311, -5.2311, -5.2311, -5.2311, -5.2311, -5.2311, -5.2311, -5.2311, -5.2311, -5.2311], \"loglift\": [30.0, 29.0, 28.0, 27.0, 26.0, 25.0, 24.0, 23.0, 22.0, 21.0, 20.0, 19.0, 18.0, 17.0, 16.0, 15.0, 14.0, 13.0, 12.0, 11.0, 10.0, 9.0, 8.0, 7.0, 6.0, 5.0, 4.0, 3.0, 2.0, 1.0, 0.9098, 0.8519, 0.8519, 0.8519, 0.8519, 0.7082, 0.7082, 0.7082, 0.7082, 0.7082, 0.7082, 0.7082, 0.7082, 0.7082, 0.7082, 0.7082, 0.7082, 0.7082, 0.7082, 0.7082, 0.7082, 0.7082, 0.7082, 0.7082, 0.7082, 0.7082, 0.7082, 0.7082, 0.7082, 0.7082, 0.5884, 0.5421, 0.4219, 0.1426, 0.1289, 0.3297, 0.1546, 0.2445, 0.3756, 0.2445, 0.4753, 0.2445, 1.0727, 1.0727, 1.0727, 1.0727, 0.9207, 0.9207, 0.9207, 0.9207, 0.9207, 0.9207, 0.9207, 0.9207, 0.9207, 0.9207, 0.9207, 0.9207, 0.9207, 0.9207, 0.9207, 0.9207, 0.9207, 0.9207, 0.9207, 0.9207, 0.9207, 0.9207, 0.9207, 0.9207, 0.9207, 0.9207, 0.6672, 0.5967, 0.6218, 0.3068, 0.2168, 0.4224, 0.4224, 0.4224, 0.4224, -0.121, 0.4224, 0.4224, 0.2852, 0.4224, 0.1376, 0.704, 0.1376, -0.2961, 0.704, 1.4404, 1.2706, 1.2706, 1.2706, 1.2706, 1.2706, 1.2706, 1.2706, 1.2706, 1.2706, 1.2706, 1.2706, 1.2706, 1.2706, 1.2706, 1.2706, 1.2706, 1.2706, 1.2706, 1.2706, 1.2706, 1.2706, 1.2706, 1.2706, 1.2706, 1.2706, 1.2706, 1.2706, 1.2706, 1.2706, 0.6114, 0.1579, 0.4166, -0.3417, 0.907, 0.7664, 0.7664, 1.8138, 1.8138, 1.8138, 1.8138, 1.8138, 1.8138, 1.8138, 1.8138, 1.8138, 1.8138, 1.8138, 1.8138, 1.8138, 1.8138, 1.8138, 1.8138, 1.2951, 1.2951, 1.2453, 1.2206, 1.2206, 1.2206, 1.0483, 0.7867, 0.0464, -0.0317, -0.0317, -0.0378, -0.0773, -0.0773, -0.5263, -1.321, -0.99, -0.5263, 2.2853, 2.2853, 2.2853, 2.2853, 2.2853, 2.2853, 2.2853, 2.2853, 1.6034, 1.3315, 0.9435, 0.7049, 0.2515, 0.2515, 0.2454, 0.0176, 0.0176, 0.0176, 0.0176, 0.0176, 0.0176, 0.0176, 0.0176, 0.0176, 0.0176, 0.0176, 0.0176, 0.0176, 0.0176, 0.0176, -0.2431, -1.0379, -0.7068, -0.2431, -0.2431, -0.2431, -0.2431, -0.2431, -0.5756, -1.541, -0.2431, -0.2431, -1.8203, -0.7068, -0.2431, -0.2431, -0.728, 2.3826, 2.3826, 1.7059, 1.7059, 1.2871, 1.2871, 1.1215, 0.5901, 0.3813, 0.3108, 0.2971, 0.2575, 0.2575, 0.2575, 0.2575, 0.2575, 0.2575, 0.2575, 0.2575, 0.0692, 0.0692, 0.0692, 0.0692, 0.0692, 0.0692, 0.0692, 0.0692, 0.0692, 0.0692, 0.0692, -0.1914, -0.9862, -0.6551, -0.1914, -0.1914, -0.1914, -0.1914, -0.1914, -0.524, -0.1914, -0.1914, -0.6551, -0.1914, -0.1914, -0.6763, -1.0014, -0.6763, -0.6763, -0.6763, 0.648, 0.648, 0.6024, 0.6024, 0.6024, 0.6024, 0.6024, 0.6024, 0.6024, 0.6024, 0.4141, 0.4141, 0.4141, 0.4141, 0.4141, 0.4141, 0.4141, 0.4141, 0.4141, 0.4141, 0.4141, 0.4141, 0.4141, 0.4141, 0.4141, 0.4141, 0.259, 0.259, 0.259, 0.259, 0.1534, -0.6413, -0.3103, 0.1534, 0.1534, 0.1534, 0.1534, 0.1534, -0.1791, -1.1445, 0.1534, 0.1534, -1.4238, -0.3103, 0.1534, 0.1534, -0.3315, -0.6566, -0.3315, -0.3315, -0.3315, -0.0795, -0.3103, 0.1534, 0.1534, 0.1534, -0.3103, -0.8537, -0.3515, 0.1534]}, \"token.table\": {\"Topic\": [3, 1, 2, 2, 1, 4, 3, 4, 2, 2, 1, 2, 3, 2, 1, 3, 1, 2, 1, 2, 3, 2, 1, 2, 1, 3, 1, 4, 3, 2, 2, 2, 1, 1, 3, 1, 2, 2, 3, 2, 4, 1, 3, 1, 2, 3, 2, 4, 1, 4, 1, 2, 1, 1, 3, 3, 4, 1, 2, 2, 3, 4, 1, 2, 3, 1, 4, 3, 1, 2, 3, 4, 3, 4, 2, 2, 1, 1, 1, 3, 1, 3, 2, 1, 1, 2, 2, 3, 4, 1, 2, 2, 2, 2, 1, 3, 1, 1, 2, 3, 4, 3, 2, 3, 3, 3, 1, 2, 1, 3, 2, 4, 1, 1, 1, 3, 2, 3, 4, 2, 3, 2, 1, 2, 1, 2, 1, 2, 3, 1, 4, 1, 3, 3, 4, 3, 1, 4, 4, 1, 2, 1, 3, 3, 4, 4, 3, 2, 3, 3, 1, 4, 4, 2, 1, 1, 1, 2, 4, 2, 3, 2, 1, 2, 3, 1, 2, 1, 2, 3, 1, 1, 3, 4, 2, 1, 2, 2, 4, 1, 2], \"Freq\": [0.8874470253611041, 0.4378681458657494, 0.4378681458657494, 0.8266985303632843, 0.7985635488623463, 1.036344061352797, 0.6169513644799778, 0.6169513644799778, 1.0264876745672642, 1.0264877490295992, 0.5022615932374622, 0.5022615932374622, 0.8874470253611041, 0.8266985303632843, 0.7985635488623463, 0.8874470253611041, 0.7214026277240749, 0.36070131386203746, 0.5022615932374622, 0.5022615932374622, 0.8874470253611041, 0.8266985303632843, 0.32699309288224765, 0.6539861857644953, 0.7985635488623463, 0.8874470253611041, 0.7985635488623463, 1.036344061352797, 0.8874470253611041, 0.8266985303632843, 0.8266985303632843, 0.8266985303632843, 0.7985635488623463, 0.7985635488623463, 0.8874471001408669, 0.7985635488623463, 0.8266985303632843, 0.8266985303632843, 0.8874470253611041, 0.8266985303632843, 1.036344061352797, 0.7985635488623463, 0.8874470253611041, 0.3777951277408808, 0.3777951277408808, 0.3777951277408808, 0.6655888734303333, 1.036344061352797, 0.5726412379665965, 0.5726412379665965, 0.4361748551016915, 0.4361748551016915, 0.7985635488623463, 0.7985635488623463, 0.8874471001408669, 0.8874470253611041, 1.036344061352797, 0.3298786525593178, 0.49481797883897666, 0.8266985303632843, 0.616951328338908, 0.616951328338908, 0.5022615932374622, 0.5022615932374622, 0.8874470253611041, 0.7985635488623463, 1.036344061352797, 0.8874470253611041, 0.3777951412931461, 0.3777951412931461, 0.3777951412931461, 1.036344061352797, 0.8874470253611041, 1.036344061352797, 0.8266985303632843, 0.8266985303632843, 0.7985635488623463, 0.7985635488623463, 0.9834625408289133, 0.8874470253611041, 0.7985635488623463, 0.8874470253611041, 1.026487525642627, 0.7104765016365011, 0.9834624544580284, 0.8266985303632843, 0.8266985303632843, 0.8874470253611041, 1.036344061352797, 0.9834624544580284, 0.8266985303632843, 0.8266985303632843, 0.8266985303632843, 0.8266985303632843, 0.9834624544580284, 0.8874471001408669, 0.6326464902870439, 0.17698926204632653, 0.5309677861389795, 0.17698926204632653, 0.17698926204632653, 0.8874471001408669, 0.5360281419305486, 0.5360281419305486, 0.8874470253611041, 0.8874470253611041, 0.5022615932374622, 0.5022615932374622, 0.7985635488623463, 0.8874470253611041, 0.8266985303632843, 1.036344061352797, 0.7985635488623463, 0.7985635488623463, 0.7985635488623463, 0.8874470253611041, 0.8266985303632843, 0.8874470253611041, 1.036344061352797, 0.8266985303632843, 0.8874470253611041, 0.8266985303632843, 0.5151757404973183, 0.25758787024865915, 0.5022615932374622, 0.5022615932374622, 0.5833761383731163, 0.29168806918655815, 0.29168806918655815, 0.4819957338781881, 0.4819957338781881, 0.7985635488623463, 0.8874470253611041, 0.8874470253611041, 1.036344061352797, 0.8874470253611041, 0.5726412379665965, 0.5726412379665965, 1.036344061352797, 0.5022615932374622, 0.5022615932374622, 0.7985635488623463, 0.8874470253611041, 0.8874470253611041, 1.036344061352797, 1.036344061352797, 0.5609214796914753, 0.8266985303632843, 0.8874470253611041, 0.8874470253611041, 0.5726412379665965, 0.5726412379665965, 1.036344061352797, 0.8266985303632843, 0.7985635488623463, 0.7985635488623463, 0.32538656062202925, 0.32538656062202925, 0.16269328031101463, 0.5360281419305486, 0.5360281419305486, 1.026487525642627, 0.5022615932374622, 0.5022615932374622, 0.8874470253611041, 0.43786822075630366, 0.43786822075630366, 0.4896832605396843, 0.24484163026984215, 0.24484163026984215, 0.7985635488623463, 0.3710526890301504, 0.3710526890301504, 0.3710526890301504, 0.8266985303632843, 0.7985635488623463, 0.6655888734303333, 0.5869659369501526, 0.5869659369501526, 0.7985635488623463, 0.8266985303632843], \"Term\": [\"ability\", \"account\", \"account\", \"achieve\", \"achievement\", \"acquisition\", \"action\", \"action\", \"activity\", \"adding\", \"along\", \"along\", \"alternative\", \"among\", \"associated\", \"availability\", \"business\", \"business\", \"capital\", \"capital\", \"channel\", \"closedloop\", \"company\", \"company\", \"competitiveness\", \"complexity\", \"con\", \"concern\", \"consideration\", \"considering\", \"conversion\", \"cooperation\", \"coordinated\", \"coordination\", \"creating\", \"creation\", \"customer\", \"cycle\", \"decision\", \"derived\", \"design\", \"designed\", \"detect\", \"development\", \"development\", \"development\", \"dimension\", \"disposal\", \"distribution\", \"distribution\", \"economic\", \"economic\", \"effectively\", \"efficiently\", \"end\", \"energy\", \"environment\", \"environmental\", \"environmental\", \"explicitly\", \"firm\\u2019s\", \"firm\\u2019s\", \"flow\", \"flow\", \"for\", \"formation\", \"formed\", \"global\", \"goal\", \"goal\", \"goal\", \"good\", \"government\", \"held\", \"ie\", \"implication\", \"improve\", \"improving\", \"in\", \"include\", \"individual\", \"industry\", \"information\", \"integration\", \"interorganizational\", \"involved\", \"involvement\", \"involving\", \"issue\", \"key\", \"life\", \"lifecycle\", \"lifecycles\", \"logistics\", \"longterm\", \"make\", \"manage\", \"management\", \"management\", \"management\", \"management\", \"managerial\", \"manufacturing\", \"manufacturing\", \"market\", \"marketing\", \"material\", \"material\", \"meet\", \"mitigate\", \"multiple\", \"natural\", \"order\", \"organization\", \"organization\\u2019s\", \"plan\", \"planning\", \"platform\", \"policy\", \"postuse\", \"potential\", \"premanufacturing\", \"process\", \"process\", \"procurement\", \"procurement\", \"product\", \"product\", \"product\", \"production\", \"production\", \"profitability\", \"recover\", \"reflection\", \"regard\", \"regulation\", \"related\", \"related\", \"relationship\", \"requirement\", \"requirement\", \"resilience\", \"resource\", \"respond\", \"response\", \"reuse\", \"risk\", \"seamless\", \"security\", \"selection\", \"service\", \"service\", \"set\", \"shared\", \"short\", \"siderations\", \"social\", \"social\", \"social\", \"sourcing\", \"sourcing\", \"stage\", \"stakeholder\", \"stakeholder\", \"substantial\", \"sustainability\", \"sustainability\", \"sustainable\", \"sustainable\", \"sustainable\", \"system\", \"taken\", \"taken\", \"taken\", \"taking\", \"tary\", \"three\", \"use\", \"use\", \"volun\", \"well\"]}, \"R\": 30, \"lambda.step\": 0.01, \"plot.opts\": {\"xlab\": \"PC1\", \"ylab\": \"PC2\"}, \"topic.order\": [1, 4, 5, 6, 3, 2, 7]};\n",
       "\n",
       "function LDAvis_load_lib(url, callback){\n",
       "  var s = document.createElement('script');\n",
       "  s.src = url;\n",
       "  s.async = true;\n",
       "  s.onreadystatechange = s.onload = callback;\n",
       "  s.onerror = function(){console.warn(\"failed to load library \" + url);};\n",
       "  document.getElementsByTagName(\"head\")[0].appendChild(s);\n",
       "}\n",
       "\n",
       "if(typeof(LDAvis) !== \"undefined\"){\n",
       "   // already loaded: just create the visualization\n",
       "   !function(LDAvis){\n",
       "       new LDAvis(\"#\" + \"ldavis_el114081406415229596329808932920\", ldavis_el114081406415229596329808932920_data);\n",
       "   }(LDAvis);\n",
       "}else if(typeof define === \"function\" && define.amd){\n",
       "   // require.js is available: use it to load d3/LDAvis\n",
       "   require.config({paths: {d3: \"https://d3js.org/d3.v5\"}});\n",
       "   require([\"d3\"], function(d3){\n",
       "      window.d3 = d3;\n",
       "      LDAvis_load_lib(\"https://cdn.jsdelivr.net/gh/bmabey/pyLDAvis@3.3.1/pyLDAvis/js/ldavis.v3.0.0.js\", function(){\n",
       "        new LDAvis(\"#\" + \"ldavis_el114081406415229596329808932920\", ldavis_el114081406415229596329808932920_data);\n",
       "      });\n",
       "    });\n",
       "}else{\n",
       "    // require.js not available: dynamically load d3 & LDAvis\n",
       "    LDAvis_load_lib(\"https://d3js.org/d3.v5.js\", function(){\n",
       "         LDAvis_load_lib(\"https://cdn.jsdelivr.net/gh/bmabey/pyLDAvis@3.3.1/pyLDAvis/js/ldavis.v3.0.0.js\", function(){\n",
       "                 new LDAvis(\"#\" + \"ldavis_el114081406415229596329808932920\", ldavis_el114081406415229596329808932920_data);\n",
       "            })\n",
       "         });\n",
       "}\n",
       "</script>"
      ],
      "text/plain": [
       "PreparedData(topic_coordinates=              x         y  topics  cluster       Freq\n",
       "topic                                                \n",
       "0     -0.106723  0.084873       1        1  35.122788\n",
       "3     -0.089884 -0.124417       2        1  27.794979\n",
       "4      0.160111 -0.029659       3        1  18.672669\n",
       "5      0.039915  0.059334       4        1   9.539698\n",
       "2     -0.002128  0.024668       5        1   4.777564\n",
       "1     -0.015866 -0.017192       6        1   4.044954\n",
       "6      0.014574  0.002392       7        1   0.047347, topic_info=             Term      Freq     Total Category  logprob  loglift\n",
       "12  environmental  6.000000  6.000000  Default  30.0000  30.0000\n",
       "35         social  6.000000  6.000000  Default  29.0000  29.0000\n",
       "9        economic  4.000000  4.000000  Default  28.0000  28.0000\n",
       "63        process  3.000000  3.000000  Default  27.0000  27.0000\n",
       "52     management  5.000000  5.000000  Default  26.0000  26.0000\n",
       "..            ...       ...       ...      ...      ...      ...\n",
       "25   organization  0.000691  1.252248   Topic7  -5.2311   0.1534\n",
       "26    procurement  0.000691  1.990994   Topic7  -5.2311  -0.3103\n",
       "27        product  0.000691  3.428320   Topic7  -5.2311  -0.8537\n",
       "28     production  0.000691  2.074707   Topic7  -5.2311  -0.3515\n",
       "29  profitability  0.000691  1.252248   Topic7  -5.2311   0.1534\n",
       "\n",
       "[348 rows x 6 columns], token_table=      Topic      Freq         Term\n",
       "term                              \n",
       "153       3  0.887447      ability\n",
       "40        1  0.437868      account\n",
       "40        2  0.437868      account\n",
       "115       2  0.826699      achieve\n",
       "57        1  0.798564  achievement\n",
       "...     ...       ...          ...\n",
       "55        2  0.665589        three\n",
       "114       2  0.586966          use\n",
       "114       4  0.586966          use\n",
       "39        1  0.798564        volun\n",
       "56        2  0.826699         well\n",
       "\n",
       "[181 rows x 3 columns], R=30, lambda_step=0.01, plot_opts={'xlab': 'PC1', 'ylab': 'PC2'}, topic_order=[1, 4, 5, 6, 3, 2, 7])"
      ]
     },
     "execution_count": 253,
     "metadata": {},
     "output_type": "execute_result"
    }
   ],
   "source": [
    "prepared_data_scm"
   ]
  },
  {
   "cell_type": "code",
   "execution_count": 254,
   "metadata": {
    "ExecuteTime": {
     "end_time": "2021-05-06T19:38:26.279749Z",
     "start_time": "2021-05-06T19:38:26.268516Z"
    }
   },
   "outputs": [
    {
     "data": {
      "text/html": [
       "\n",
       "<link rel=\"stylesheet\" type=\"text/css\" href=\"https://cdn.jsdelivr.net/gh/bmabey/pyLDAvis@3.3.1/pyLDAvis/js/ldavis.v1.0.0.css\">\n",
       "\n",
       "\n",
       "<div id=\"ldavis_el114081406415229615364924732712\"></div>\n",
       "<script type=\"text/javascript\">\n",
       "\n",
       "var ldavis_el114081406415229615364924732712_data = {\"mdsDat\": {\"x\": [-0.048866859849294286, 0.16942603643497822, 0.09992145377924752, -0.10592953648441766, -0.0631514320063434, -0.05850706798033857, 0.007107406106167768], \"y\": [0.15091485271838156, -0.040184303743713935, 0.01392054698849877, -0.11566518647031528, -0.010559853275673001, 0.002108911657518834, -0.000534967874696917], \"topics\": [1, 2, 3, 4, 5, 6, 7], \"cluster\": [1, 1, 1, 1, 1, 1, 1], \"Freq\": [23.494199843201706, 20.45532678662369, 17.5808779766352, 14.92176692122618, 12.138758830056322, 7.482916900500588, 3.9261527417563133]}, \"tinfo\": {\"Term\": [\"product\", \"environment\", \"environmental\", \"zero\", \"practice\", \"manufacturing\", \"green\", \"\\u00fe\", \"impact\", \"management\", \"reverse\", \"waste\", \"logistics\", \"effect\", \"performance\", \"usedproduct\", \"combination\", \"preferably\", \"negative\", \"minimizing\", \"eliminating\", \"lowering\", \"profit\", \"objective\", \"share\", \"efficiency\", \"ecological\", \"achieve\", \"process\", \"design\", \"zero\", \"waste\", \"increasing\", \"addition\", \"characterized\", \"emission\", \"fivecircled\", \"flag\", \"input\", \"lifecycle\", \"olympic\", \"olympics\", \"output\", \"substance\", \"toxic\", \"use\", \"energy\", \"forward\", \"function\", \"generation\", \"inventory\", \"option\", \"production\", \"raw\", \"recovery\", \"reducing\", \"refers\", \"shipping\", \"transport\", \"usage\", \"activity\", \"green\", \"material\", \"environmental\", \"product\", \"management\", \"distribution\", \"logistics\", \"purchasing\", \"resource\", \"greening\", \"control\", \"environment\", \"protection\", \"consumer\", \"supplychain\", \"useful\", \"well\", \"add\", \"brought\", \"capacity\", \"competitive\", \"consciousness\", \"original\", \"purpose\", \"say\", \"suppliers\\u2019\", \"system\", \"product\", \"delivery\", \"endoflife\", \"final\", \"selection\", \"sourcing\", \"design\", \"process\", \"including\", \"life\", \"management\", \"thinking\", \"manufacturing\", \"principle\", \"material\", \"environmental\", \"integrating\", \"market\", \"improve\", \"supplier\", \"aim\", \"continuing\", \"sc\", \"starting\", \"across\", \"application\", \"assembly\", \"entire\", \"packaging\", \"procurement\", \"choice\", \"conversion\", \"decision\", \"making\", \"sound\", \"usable\", \"approach\", \"whole\", \"design\", \"process\", \"procedure\", \"cycle\", \"set\", \"integration\", \"manufacturing\", \"principle\", \"integrate\", \"issue\", \"customer\", \"order\", \"management\", \"product\", \"environmental\", \"delivery\", \"endoflife\", \"final\", \"material\", \"selection\", \"sourcing\", \"activity\", \"distribution\", \"including\", \"logistics\", \"\\u00fe\", \"impact\", \"achieve\", \"ecological\", \"efficiency\", \"lowering\", \"objective\", \"profit\", \"share\", \"archetype\", \"enterprise\", \"important\", \"new\", \"raising\", \"risk\", \"distributionmarketing\", \"manufacturingmaterials\", \"closedloop\", \"market\", \"green\", \"thinking\", \"purchasing\", \"reverse\", \"integrating\", \"environmental\", \"logistics\", \"performance\", \"management\", \"combination\", \"usedproduct\", \"firm\", \"way\", \"practice\", \"allocating\", \"human\", \"intended\", \"organizational\", \"possible\", \"redefining\", \"responsibility\", \"support\", \"improving\", \"monitoring\", \"product\\u2019s\", \"concern\", \"interorganizational\", \"scm\", \"consideration\", \"effect\", \"set\", \"procedure\", \"cycle\", \"integration\", \"life\", \"control\", \"greening\", \"performance\", \"reverse\", \"integrating\", \"resource\", \"including\", \"logistics\", \"environmental\", \"material\", \"ass\", \"base\", \"complex\", \"corporate\", \"implemented\", \"level\", \"mechanism\", \"plant\", \"addressed\", \"extend\", \"measure\", \"strategic\", \"context\", \"dimension\", \"sustainability\", \"whole\", \"approach\", \"improve\", \"supplier\", \"performance\", \"environmental\", \"combination\", \"usedproduct\", \"eliminating\", \"minimizing\", \"negative\", \"preferably\", \"concern\", \"interorganizational\", \"scm\", \"across\", \"activity\", \"application\", \"assembly\", \"customer\", \"cycle\", \"design\", \"distribution\", \"entire\", \"combination\", \"usedproduct\", \"eliminating\", \"minimizing\", \"negative\", \"preferably\", \"effect\", \"reverse\", \"logistics\", \"manufacturing\", \"environment\", \"context\", \"dimension\", \"sustainability\", \"addressed\", \"extend\", \"measure\", \"strategic\", \"ass\", \"base\", \"complex\", \"corporate\", \"implemented\", \"level\", \"mechanism\", \"plant\", \"concern\", \"interorganizational\", \"scm\", \"improving\", \"product\", \"across\", \"activity\", \"application\", \"assembly\", \"customer\", \"cycle\", \"design\", \"distribution\", \"entire\", \"environmental\", \"including\", \"management\", \"order\", \"packaging\", \"principle\", \"procurement\", \"set\", \"whole\"], \"Freq\": [10.0, 3.0, 10.0, 4.0, 2.0, 3.0, 4.0, 2.0, 2.0, 10.0, 2.0, 3.0, 3.0, 1.0, 3.0, 0.0, 0.0, 0.0, 0.0, 0.0, 0.0, 1.0, 1.0, 1.0, 1.0, 1.0, 1.0, 1.0, 3.0, 3.0, 3.8724239462638126, 3.119450749979783, 1.6119076389517686, 0.8605284070066663, 0.8605284070066663, 0.8605284070066663, 0.8605284070066663, 0.8605284070066663, 0.8605284070066663, 0.8605284070066663, 0.8605284070066663, 0.8605284070066663, 0.8605284070066663, 0.8605284070066663, 0.8605284070066663, 0.8605284070066663, 0.8605284070066663, 0.8605284070066663, 0.8605284070066663, 0.8605284070066663, 0.8605284070066663, 0.8605284070066663, 0.8605284070066663, 0.8605284070066663, 0.8605284070066663, 0.8605284070066663, 0.8605284070066663, 0.8605284070066663, 0.8605284070066663, 0.8605284070066663, 1.6135034169801536, 2.366477553695754, 1.6135034169801536, 1.6814435523433906, 1.6135034169801536, 1.6135034169801536, 0.8605284070066663, 0.8605284070066663, 0.8605284070066663, 0.8605284070066663, 0.8605284070066663, 0.8605284070066663, 3.0073470879528266, 1.5555364561945817, 1.555465221393436, 0.8296134778278189, 0.8296134778278189, 0.8296134778278189, 0.8296134193427604, 0.8296134193427604, 0.8296134193427604, 0.8296134193427604, 0.8296134193427604, 0.8296134193427604, 0.8296134193427604, 0.8296134193427604, 0.8296134193427604, 0.8296134193427604, 5.91101092859184, 1.555465221393436, 1.555465221393436, 1.555465221393436, 1.555465221393436, 1.555465221393436, 1.555465221393436, 1.555465221393436, 1.4759275304450368, 0.8296134778278189, 4.45917690281023, 0.8296134778278189, 1.555465221393436, 0.8296134193427604, 1.4759275304450368, 0.8296134778278189, 0.8296134778278189, 0.8296134193427604, 0.8296134193427604, 0.8296134193427604, 0.7937216685847219, 0.7937216685847219, 0.7937216685847219, 0.7937216685847219, 0.7937216183181734, 0.7937216183181734, 0.7937216183181734, 0.7937216183181734, 0.7937216183181734, 0.7937216183181734, 0.7937216183181734, 0.7937216183181734, 0.7937216183181734, 0.7937216183181734, 0.7937216183181734, 0.7937216183181734, 0.7937216685847219, 0.7937216183181734, 1.488237679240563, 1.488237679240563, 0.7937216685847219, 0.7937216183181734, 0.7937216183181734, 0.7937216183181734, 1.488237679240563, 0.7937216183181734, 0.7937216685847219, 0.7937216685847219, 0.7937216183181734, 0.7937216183181734, 2.877266885625531, 2.182752483499241, 2.182752483499241, 0.7937216685847219, 0.7937216685847219, 0.7937216685847219, 0.7937216685847219, 0.7937216685847219, 0.7937216685847219, 0.7937216183181734, 0.7937216183181734, 0.7937216183181734, 0.7937216183181734, 2.067473128070275, 2.0674391677462185, 1.4095845150798794, 1.4095845150798794, 1.4095845150798794, 1.4095845150798794, 1.4095845150798794, 1.4095845150798794, 1.4095845150798794, 0.7518028173810491, 0.7518028173810491, 0.7518028173810491, 0.7518028173810491, 0.7518028173810491, 0.7518028173810491, 0.7518028173810491, 0.7518028173810491, 0.7518025613987069, 1.4095845150798794, 2.067473128070275, 0.7518025613987069, 0.7518028173810491, 0.7518028173810491, 0.7518025613987069, 2.6659518232037396, 0.7518028173810491, 0.7518024760712596, 1.4096383566991753, 0.09397634410420691, 0.09397634410420691, 0.09798502758205366, 0.09798502758205366, 1.9225522426364896, 0.6991054324096122, 0.6991054324096122, 0.6991054324096122, 0.6991054324096122, 0.6991054324096122, 0.6991054324096122, 0.6991054324096122, 0.6991054324096122, 0.6991053629962974, 0.6991053629962974, 0.6991053629962974, 0.6991052935829826, 0.6991052935829826, 0.6991052935829826, 0.6961262129365615, 0.6991054324096122, 0.6991054324096122, 0.6991054324096122, 0.6991053629962974, 0.6961262129365615, 0.6991053629962974, 0.6991054324096122, 0.6961262129365615, 1.3108292192962825, 0.6991052935829826, 0.6991052935829826, 0.6991054324096122, 0.7661908329124791, 0.6991052935829826, 1.9225522426364896, 0.7661908329124791, 0.5620178278769452, 0.5620178278769452, 0.5620178278769452, 0.5620178278769452, 0.5620178278769452, 0.5620178278769452, 0.5620178278769452, 0.5620178278769452, 0.5620177850872272, 0.5620177850872272, 0.5620177850872272, 0.5620177850872272, 0.5620176995077913, 0.5620176995077913, 0.5620176995077913, 0.5620177850872272, 0.5620177850872272, 0.5620178278769452, 0.5620178278769452, 0.5620178278769452, 1.5455565683493901, 0.07025272591508946, 0.07025272591508946, 0.07025272591508946, 0.07025272591508946, 0.07025272591508946, 0.07025272591508946, 0.07025272591508946, 0.07025272591508946, 0.07025272591508946, 0.07025272591508946, 0.07025272591508946, 0.07025272591508946, 0.07025272591508946, 0.07025272591508946, 0.07025272591508946, 0.07025272591508946, 0.07025272591508946, 0.07025272591508946, 0.38570396188781764, 0.38570396188781764, 0.38570396188781764, 0.38570396188781764, 0.38570396188781764, 0.38570396188781764, 0.38570396188781764, 0.38570396188781764, 0.38570396188781764, 0.38570396188781764, 0.38570396188781764, 0.04821325903522903, 0.04821325903522903, 0.04821325903522903, 0.04821325903522903, 0.04821325903522903, 0.04821325903522903, 0.04821325903522903, 0.04821325903522903, 0.04821325903522903, 0.04821325903522903, 0.04821325903522903, 0.04821325903522903, 0.04821325903522903, 0.04821325903522903, 0.04821325903522903, 0.04821325903522903, 0.04821325903522903, 0.04821325903522903, 0.04821325903522903, 0.38570396188781764, 0.04821325903522903, 0.04821325903522903, 0.04821325903522903, 0.04821325903522903, 0.04821325903522903, 0.04821325903522903, 0.04821325903522903, 0.04821325903522903, 0.04821325903522903, 0.04821325903522903, 0.04821325903522903, 0.04821325903522903, 0.04821325903522903, 0.04821325903522903, 0.04821325903522903, 0.04821325903522903, 0.04821325903522903, 0.04821325903522903], \"Total\": [10.0, 3.0, 10.0, 4.0, 2.0, 3.0, 4.0, 2.0, 2.0, 10.0, 2.0, 3.0, 3.0, 1.0, 3.0, 0.0, 0.0, 0.0, 0.0, 0.0, 0.0, 1.0, 1.0, 1.0, 1.0, 1.0, 1.0, 1.0, 3.0, 3.0, 4.375174660805138, 3.6222014645211074, 2.1160355171619214, 1.363279121547991, 1.363279121547991, 1.363279121547991, 1.363279121547991, 1.363279121547991, 1.363279121547991, 1.363279121547991, 1.363279121547991, 1.363279121547991, 1.363279121547991, 1.363279121547991, 1.363279121547991, 1.363279121547991, 1.363279121547991, 1.363279121547991, 1.363279121547991, 1.363279121547991, 1.363279121547991, 1.363279121547991, 1.363279121547991, 1.363279121547991, 1.363279121547991, 1.363279121547991, 1.363279121547991, 1.363279121547991, 1.363279121547991, 1.363279121547991, 2.8107593788526275, 4.842725052203147, 4.861785777976918, 10.8760834068953, 10.344633913553997, 10.565478432716299, 2.0577843688791404, 3.664817861287232, 2.021105594824833, 2.6695008239844302, 1.9755053491354915, 1.9749955766532807, 3.851480473604542, 2.0621517294110094, 2.062139929760698, 1.3362287510442472, 1.3362287510442472, 1.3362287510442472, 1.3362286925591886, 1.3362286925591886, 1.3362286925591886, 1.3362286925591886, 1.3362286925591886, 1.3362286925591886, 1.3362286925591886, 1.3362286925591886, 1.3362286925591886, 1.3362286925591886, 10.344633913553997, 2.7566452273583963, 2.7566452273583963, 2.7566452273583963, 2.7566452273583963, 2.7566452273583963, 3.4511612380142376, 3.4511612380142376, 3.3558499066007714, 1.9479451367362224, 10.565478432716299, 1.994054968338747, 3.7886519408668264, 2.030733939890338, 4.861785777976918, 10.8760834068953, 2.6057712846174073, 2.651897370230393, 2.5809544041361026, 2.5809544041361026, 1.3048236080095796, 1.3048236080095796, 1.3048236080095796, 1.3048236080095796, 1.304823557743031, 1.304823557743031, 1.304823557743031, 1.304823557743031, 1.304823557743031, 1.304823557743031, 1.304823557743031, 1.304823557743031, 1.304823557743031, 1.304823557743031, 1.304823557743031, 1.304823557743031, 1.7965886671817173, 1.7965886169151688, 3.4511612380142376, 3.4511612380142376, 1.9165400631148695, 1.916539943435006, 1.9165400128483212, 1.917049785330532, 3.7886519408668264, 2.030733939890338, 2.0577842176246377, 2.0577842176246377, 2.0577841673580894, 2.0577841673580894, 10.565478432716299, 10.344633913553997, 10.8760834068953, 2.7566452273583963, 2.7566452273583963, 2.7566452273583963, 4.861785777976918, 2.7566452273583963, 2.7566452273583963, 2.8107593788526275, 2.0577843688791404, 3.3558499066007714, 3.664817861287232, 2.583815094377949, 2.5838193642765903, 1.9259869880830862, 1.9259869880830862, 1.9259869880830862, 1.9259869880830862, 1.9259869880830862, 1.9259869880830862, 1.9259869880830862, 1.2681447836887234, 1.2681447836887234, 1.2681447836887234, 1.2681447836887234, 1.2681447836887234, 1.2681447836887234, 1.2681447836887234, 1.2681447836887234, 1.2681445277063814, 2.651897370230393, 4.842725052203147, 1.994054968338747, 2.021105594824833, 2.2173518028199726, 2.6057712846174073, 10.8760834068953, 3.664817861287232, 3.7363103959478083, 10.565478432716299, 0.9478090132644699, 0.9478090132644699, 1.3626519475972743, 1.3626519475972743, 2.4454815757440485, 1.2220347655171715, 1.2220347655171715, 1.2220347655171715, 1.2220347655171715, 1.2220347655171715, 1.2220347655171715, 1.2220347655171715, 1.2220347655171715, 1.2220346961038564, 1.2220346961038564, 1.2220346961038564, 1.2220346266905417, 1.2220346266905417, 1.2220346266905417, 1.2225445379993822, 1.5595254683697601, 1.9165400128483212, 1.9165400631148695, 1.916539943435006, 1.917049785330532, 1.9479451367362224, 1.9749955766532807, 1.9755053491354915, 3.7363103959478083, 2.2173518028199726, 2.6057712846174073, 2.6695008239844302, 3.3558499066007714, 3.664817861287232, 10.8760834068953, 4.861785777976918, 1.102083412373737, 1.102083412373737, 1.102083412373737, 1.102083412373737, 1.102083412373737, 1.102083412373737, 1.102083412373737, 1.102083412373737, 1.102083369584019, 1.102083369584019, 1.102083369584019, 1.102083369584019, 1.102083284004583, 1.102083284004583, 1.102083284004583, 1.7965886169151688, 1.7965886671817173, 2.5809544041361026, 2.5809544041361026, 3.7363103959478083, 10.8760834068953, 0.9478090132644699, 0.9478090132644699, 0.9478090132644699, 0.9478090132644699, 0.9478090132644699, 0.9478090132644699, 1.2220346266905417, 1.2220346266905417, 1.2220346266905417, 1.304823557743031, 2.8107593788526275, 1.304823557743031, 1.304823557743031, 2.0577841673580894, 1.916539943435006, 3.4511612380142376, 2.0577843688791404, 1.304823557743031, 0.9478090132644699, 0.9478090132644699, 0.9478090132644699, 0.9478090132644699, 0.9478090132644699, 0.9478090132644699, 1.5595254683697601, 2.2173518028199726, 3.664817861287232, 3.7886519408668264, 3.851480473604542, 1.102083284004583, 1.102083284004583, 1.102083284004583, 1.102083369584019, 1.102083369584019, 1.102083369584019, 1.102083369584019, 1.102083412373737, 1.102083412373737, 1.102083412373737, 1.102083412373737, 1.102083412373737, 1.102083412373737, 1.102083412373737, 1.102083412373737, 1.2220346266905417, 1.2220346266905417, 1.2220346266905417, 1.2220346961038564, 10.344633913553997, 1.304823557743031, 2.8107593788526275, 1.304823557743031, 1.304823557743031, 2.0577841673580894, 1.916539943435006, 3.4511612380142376, 2.0577843688791404, 1.304823557743031, 10.8760834068953, 3.3558499066007714, 10.565478432716299, 2.0577841673580894, 1.304823557743031, 2.030733939890338, 1.304823557743031, 1.9165400128483212, 1.7965886169151688], \"Category\": [\"Default\", \"Default\", \"Default\", \"Default\", \"Default\", \"Default\", \"Default\", \"Default\", \"Default\", \"Default\", \"Default\", \"Default\", \"Default\", \"Default\", \"Default\", \"Default\", \"Default\", \"Default\", \"Default\", \"Default\", \"Default\", \"Default\", \"Default\", \"Default\", \"Default\", \"Default\", \"Default\", \"Default\", \"Default\", \"Default\", \"Topic1\", \"Topic1\", \"Topic1\", \"Topic1\", \"Topic1\", \"Topic1\", \"Topic1\", \"Topic1\", \"Topic1\", \"Topic1\", \"Topic1\", \"Topic1\", \"Topic1\", \"Topic1\", \"Topic1\", \"Topic1\", \"Topic1\", \"Topic1\", \"Topic1\", \"Topic1\", \"Topic1\", \"Topic1\", \"Topic1\", \"Topic1\", \"Topic1\", \"Topic1\", \"Topic1\", \"Topic1\", \"Topic1\", \"Topic1\", \"Topic1\", \"Topic1\", \"Topic1\", \"Topic1\", \"Topic1\", \"Topic1\", \"Topic1\", \"Topic1\", \"Topic1\", \"Topic1\", \"Topic1\", \"Topic1\", \"Topic2\", \"Topic2\", \"Topic2\", \"Topic2\", \"Topic2\", \"Topic2\", \"Topic2\", \"Topic2\", \"Topic2\", \"Topic2\", \"Topic2\", \"Topic2\", \"Topic2\", \"Topic2\", \"Topic2\", \"Topic2\", \"Topic2\", \"Topic2\", \"Topic2\", \"Topic2\", \"Topic2\", \"Topic2\", \"Topic2\", \"Topic2\", \"Topic2\", \"Topic2\", \"Topic2\", \"Topic2\", \"Topic2\", \"Topic2\", \"Topic2\", \"Topic2\", \"Topic2\", \"Topic2\", \"Topic2\", \"Topic2\", \"Topic3\", \"Topic3\", \"Topic3\", \"Topic3\", \"Topic3\", \"Topic3\", \"Topic3\", \"Topic3\", \"Topic3\", \"Topic3\", \"Topic3\", \"Topic3\", \"Topic3\", \"Topic3\", \"Topic3\", \"Topic3\", \"Topic3\", \"Topic3\", \"Topic3\", \"Topic3\", \"Topic3\", \"Topic3\", \"Topic3\", \"Topic3\", \"Topic3\", \"Topic3\", \"Topic3\", \"Topic3\", \"Topic3\", \"Topic3\", \"Topic3\", \"Topic3\", \"Topic3\", \"Topic3\", \"Topic3\", \"Topic3\", \"Topic3\", \"Topic3\", \"Topic3\", \"Topic3\", \"Topic3\", \"Topic3\", \"Topic3\", \"Topic4\", \"Topic4\", \"Topic4\", \"Topic4\", \"Topic4\", \"Topic4\", \"Topic4\", \"Topic4\", \"Topic4\", \"Topic4\", \"Topic4\", \"Topic4\", \"Topic4\", \"Topic4\", \"Topic4\", \"Topic4\", \"Topic4\", \"Topic4\", \"Topic4\", \"Topic4\", \"Topic4\", \"Topic4\", \"Topic4\", \"Topic4\", \"Topic4\", \"Topic4\", \"Topic4\", \"Topic4\", \"Topic4\", \"Topic4\", \"Topic4\", \"Topic4\", \"Topic5\", \"Topic5\", \"Topic5\", \"Topic5\", \"Topic5\", \"Topic5\", \"Topic5\", \"Topic5\", \"Topic5\", \"Topic5\", \"Topic5\", \"Topic5\", \"Topic5\", \"Topic5\", \"Topic5\", \"Topic5\", \"Topic5\", \"Topic5\", \"Topic5\", \"Topic5\", \"Topic5\", \"Topic5\", \"Topic5\", \"Topic5\", \"Topic5\", \"Topic5\", \"Topic5\", \"Topic5\", \"Topic5\", \"Topic5\", \"Topic5\", \"Topic5\", \"Topic6\", \"Topic6\", \"Topic6\", \"Topic6\", \"Topic6\", \"Topic6\", \"Topic6\", \"Topic6\", \"Topic6\", \"Topic6\", \"Topic6\", \"Topic6\", \"Topic6\", \"Topic6\", \"Topic6\", \"Topic6\", \"Topic6\", \"Topic6\", \"Topic6\", \"Topic6\", \"Topic6\", \"Topic6\", \"Topic6\", \"Topic6\", \"Topic6\", \"Topic6\", \"Topic6\", \"Topic6\", \"Topic6\", \"Topic6\", \"Topic6\", \"Topic6\", \"Topic6\", \"Topic6\", \"Topic6\", \"Topic6\", \"Topic6\", \"Topic6\", \"Topic6\", \"Topic7\", \"Topic7\", \"Topic7\", \"Topic7\", \"Topic7\", \"Topic7\", \"Topic7\", \"Topic7\", \"Topic7\", \"Topic7\", \"Topic7\", \"Topic7\", \"Topic7\", \"Topic7\", \"Topic7\", \"Topic7\", \"Topic7\", \"Topic7\", \"Topic7\", \"Topic7\", \"Topic7\", \"Topic7\", \"Topic7\", \"Topic7\", \"Topic7\", \"Topic7\", \"Topic7\", \"Topic7\", \"Topic7\", \"Topic7\", \"Topic7\", \"Topic7\", \"Topic7\", \"Topic7\", \"Topic7\", \"Topic7\", \"Topic7\", \"Topic7\", \"Topic7\", \"Topic7\", \"Topic7\", \"Topic7\", \"Topic7\", \"Topic7\", \"Topic7\", \"Topic7\", \"Topic7\", \"Topic7\", \"Topic7\"], \"logprob\": [30.0, 29.0, 28.0, 27.0, 26.0, 25.0, 24.0, 23.0, 22.0, 21.0, 20.0, 19.0, 18.0, 17.0, 16.0, 15.0, 14.0, 13.0, 12.0, 11.0, 10.0, 9.0, 8.0, 7.0, 6.0, 5.0, 4.0, 3.0, 2.0, 1.0, -2.9246, -3.1408, -3.801, -4.4286, -4.4286, -4.4286, -4.4286, -4.4286, -4.4286, -4.4286, -4.4286, -4.4286, -4.4286, -4.4286, -4.4286, -4.4286, -4.4286, -4.4286, -4.4286, -4.4286, -4.4286, -4.4286, -4.4286, -4.4286, -4.4286, -4.4286, -4.4286, -4.4286, -4.4286, -4.4286, -3.8, -3.417, -3.8, -3.7588, -3.8, -3.8, -4.4286, -4.4286, -4.4286, -4.4286, -4.4286, -4.4286, -3.0389, -3.6981, -3.6981, -4.3267, -4.3267, -4.3267, -4.3267, -4.3267, -4.3267, -4.3267, -4.3267, -4.3267, -4.3267, -4.3267, -4.3267, -4.3267, -2.3631, -3.6981, -3.6981, -3.6981, -3.6981, -3.6981, -3.6981, -3.6981, -3.7506, -4.3267, -2.645, -4.3267, -3.6981, -4.3267, -3.7506, -4.3267, -4.3267, -4.3267, -4.3267, -4.3267, -4.2195, -4.2195, -4.2195, -4.2195, -4.2195, -4.2195, -4.2195, -4.2195, -4.2195, -4.2195, -4.2195, -4.2195, -4.2195, -4.2195, -4.2195, -4.2195, -4.2195, -4.2195, -3.5909, -3.5909, -4.2195, -4.2195, -4.2195, -4.2195, -3.5909, -4.2195, -4.2195, -4.2195, -4.2195, -4.2195, -2.9316, -3.2079, -3.2079, -4.2195, -4.2195, -4.2195, -4.2195, -4.2195, -4.2195, -4.2195, -4.2195, -4.2195, -4.2195, -3.0982, -3.0982, -3.4812, -3.4812, -3.4812, -3.4812, -3.4812, -3.4812, -3.4812, -4.1098, -4.1098, -4.1098, -4.1098, -4.1098, -4.1098, -4.1098, -4.1098, -4.1098, -3.4812, -3.0982, -4.1098, -4.1098, -4.1098, -4.1098, -2.8439, -4.1098, -4.1098, -3.4812, -6.1892, -6.1892, -6.1474, -6.1474, -2.9644, -3.976, -3.976, -3.976, -3.976, -3.976, -3.976, -3.976, -3.976, -3.976, -3.976, -3.976, -3.976, -3.976, -3.976, -3.9803, -3.976, -3.976, -3.976, -3.976, -3.9803, -3.976, -3.976, -3.9803, -3.3474, -3.976, -3.976, -3.976, -3.8844, -3.976, -2.9644, -3.8844, -3.7105, -3.7105, -3.7105, -3.7105, -3.7105, -3.7105, -3.7105, -3.7105, -3.7105, -3.7105, -3.7105, -3.7105, -3.7105, -3.7105, -3.7105, -3.7105, -3.7105, -3.7105, -3.7105, -3.7105, -2.6989, -5.79, -5.79, -5.79, -5.79, -5.79, -5.79, -5.79, -5.79, -5.79, -5.79, -5.79, -5.79, -5.79, -5.79, -5.79, -5.79, -5.79, -5.79, -3.442, -3.442, -3.442, -3.442, -3.442, -3.442, -3.442, -3.442, -3.442, -3.442, -3.442, -5.5215, -5.5215, -5.5215, -5.5215, -5.5215, -5.5215, -5.5215, -5.5215, -5.5215, -5.5215, -5.5215, -5.5215, -5.5215, -5.5215, -5.5215, -5.5215, -5.5215, -5.5215, -5.5215, -3.442, -5.5215, -5.5215, -5.5215, -5.5215, -5.5215, -5.5215, -5.5215, -5.5215, -5.5215, -5.5215, -5.5215, -5.5215, -5.5215, -5.5215, -5.5215, -5.5215, -5.5215, -5.5215], \"loglift\": [30.0, 29.0, 28.0, 27.0, 26.0, 25.0, 24.0, 23.0, 22.0, 21.0, 20.0, 19.0, 18.0, 17.0, 16.0, 15.0, 14.0, 13.0, 12.0, 11.0, 10.0, 9.0, 8.0, 7.0, 6.0, 5.0, 4.0, 3.0, 2.0, 1.0, 1.3264, 1.299, 1.1763, 0.9883, 0.9883, 0.9883, 0.9883, 0.9883, 0.9883, 0.9883, 0.9883, 0.9883, 0.9883, 0.9883, 0.9883, 0.9883, 0.9883, 0.9883, 0.9883, 0.9883, 0.9883, 0.9883, 0.9883, 0.9883, 0.9883, 0.9883, 0.9883, 0.9883, 0.9883, 0.9883, 0.8934, 0.7323, 0.3454, -0.4185, -0.4096, -0.4308, 0.5766, -0.0006, 0.5946, 0.3163, 0.6174, 0.6176, 1.3395, 1.305, 1.305, 1.1103, 1.1103, 1.1103, 1.1103, 1.1103, 1.1103, 1.1103, 1.1103, 1.1103, 1.1103, 1.1103, 1.1103, 1.1103, 1.0273, 1.0147, 1.0147, 1.0147, 1.0147, 1.0147, 0.79, 0.79, 0.7655, 0.7334, 0.7243, 0.71, 0.6967, 0.6917, 0.3948, -0.9864, 0.4424, 0.4249, 0.452, 0.452, 1.2413, 1.2413, 1.2413, 1.2413, 1.2413, 1.2413, 1.2413, 1.2413, 1.2413, 1.2413, 1.2413, 1.2413, 1.2413, 1.2413, 1.2413, 1.2413, 0.9214, 0.9214, 0.8972, 0.8972, 0.8568, 0.8568, 0.8568, 0.8565, 0.8039, 0.7989, 0.7857, 0.7857, 0.7857, 0.7857, 0.4376, 0.1825, 0.1324, 0.4933, 0.4933, 0.4933, -0.0741, 0.4933, 0.4933, 0.4739, 0.7857, 0.2966, 0.2086, 1.6794, 1.6794, 1.5902, 1.5902, 1.5902, 1.5902, 1.5902, 1.5902, 1.5902, 1.3795, 1.3795, 1.3795, 1.3795, 1.3795, 1.3795, 1.3795, 1.3795, 1.3795, 1.2704, 1.0512, 0.9269, 0.9134, 0.8208, 0.6593, 0.4963, 0.3183, 0.299, -0.1119, -0.4088, -0.4088, -0.73, -0.73, 1.8682, 1.5503, 1.5503, 1.5503, 1.5503, 1.5503, 1.5503, 1.5503, 1.5503, 1.5503, 1.5503, 1.5503, 1.5503, 1.5503, 1.5503, 1.5456, 1.3064, 1.1003, 1.1003, 1.1003, 1.0958, 1.084, 1.0702, 1.0657, 1.0613, 0.9545, 0.7931, 0.7689, 0.6317, 0.452, 0.3759, 0.261, 1.9191, 1.9191, 1.9191, 1.9191, 1.9191, 1.9191, 1.9191, 1.9191, 1.9191, 1.9191, 1.9191, 1.9191, 1.9191, 1.9191, 1.9191, 1.4304, 1.4304, 1.0682, 1.0682, 0.6982, 0.6414, -0.0095, -0.0095, -0.0095, -0.0095, -0.0095, -0.0095, -0.2636, -0.2636, -0.2636, -0.3292, -1.0966, -0.3292, -0.3292, -0.7847, -0.7136, -1.3018, -0.7847, -0.3292, 2.3384, 2.3384, 2.3384, 2.3384, 2.3384, 2.3384, 1.8404, 1.4885, 0.986, 0.9528, 0.9364, 0.1082, 0.1082, 0.1082, 0.1082, 0.1082, 0.1082, 0.1082, 0.1082, 0.1082, 0.1082, 0.1082, 0.1082, 0.1082, 0.1082, 0.1082, 0.0049, 0.0049, 0.0049, 0.0049, -0.0516, -0.0607, -0.8281, -0.0607, -0.0607, -0.5162, -0.4451, -1.0333, -0.5162, -0.0607, -2.1812, -1.0053, -2.1522, -0.5162, -0.0607, -0.503, -0.0607, -0.4451, -0.3805]}, \"token.table\": {\"Topic\": [4, 3, 1, 3, 2, 1, 6, 3, 5, 3, 3, 6, 4, 6, 3, 6, 2, 2, 1, 3, 4, 2, 6, 5, 2, 5, 2, 6, 3, 1, 5, 3, 6, 1, 3, 3, 5, 3, 2, 3, 2, 3, 6, 1, 3, 4, 4, 5, 4, 1, 2, 3, 1, 4, 3, 2, 1, 2, 3, 4, 5, 6, 6, 2, 3, 1, 1, 1, 1, 1, 1, 1, 4, 1, 5, 5, 4, 6, 4, 1, 2, 6, 5, 2, 3, 5, 1, 1, 1, 3, 2, 4, 5, 3, 5, 5, 5, 1, 1, 3, 6, 2, 5, 1, 1, 3, 4, 5, 4, 3, 1, 2, 3, 4, 2, 3, 4, 2, 4, 1, 2, 3, 5, 6, 6, 5, 4, 4, 1, 1, 1, 1, 3, 5, 2, 1, 3, 1, 4, 5, 6, 6, 5, 5, 2, 3, 3, 5, 2, 3, 3, 1, 2, 3, 1, 5, 4, 2, 1, 4, 2, 4, 1, 1, 5, 1, 1, 1, 3, 5, 5, 4, 5, 4, 2, 3, 5, 2, 3, 3, 5, 4, 1, 3, 2, 3, 3, 6, 1, 1, 2, 6, 2, 2, 5, 6, 2, 2, 4, 1, 1, 3, 1, 1, 2, 1, 1, 2, 3, 6, 1, 4], \"Freq\": [0.5192143073589968, 0.7663871441206289, 0.7115514814421484, 0.3557757407210742, 0.7483748893946944, 0.7335255005332357, 0.9073723709100606, 0.7663871145966101, 0.818307324977612, 0.7663871441206289, 0.5566104352470872, 0.5566104352470872, 0.7885534939403719, 0.9073723356802337, 0.7663871441206289, 0.9073723356802337, 0.7483748893946944, 0.7483748893946944, 0.7335255005332357, 0.7663871441206289, 0.7885536531144769, 0.7483748893946944, 0.9073723356802337, 0.8183074179396653, 0.7483748893946944, 0.8179661099598363, 0.9698662884783434, 0.9073724413697226, 0.7663871145966101, 0.5063302479363246, 0.5063302479363246, 0.7663871441206289, 0.9073723356802337, 0.4859596141629673, 0.4859596141629673, 0.5217736282645403, 0.5217736282645403, 0.7663871441206289, 0.725519548236004, 0.362759774118002, 0.5795150855225701, 0.28975754276128507, 0.9073724413697226, 0.4859595665724162, 0.4859595665724162, 0.7885534939403719, 0.5192143073589968, 0.6412206919873796, 0.5192143073589968, 0.7335255005332357, 0.725519548236004, 0.362759774118002, 0.7335255005332357, 0.7885534939403719, 0.7663871441206289, 0.7789212539333857, 0.18388972621633495, 0.09194486310816748, 0.18388972621633495, 0.27583458932450244, 0.18388972621633495, 0.18388972621633495, 0.9073723709100606, 0.725519548236004, 0.362759774118002, 0.7338631128537788, 0.7335255005332357, 0.7335255005332357, 0.7335255005332357, 0.7335255005332357, 0.7335255005332357, 0.4129906154986273, 0.4129906154986273, 0.5061995911261966, 0.5061995911261966, 0.818307324977612, 0.7740479182297458, 0.9073723356802337, 0.7885534939403719, 0.38745357081762166, 0.38745357081762166, 0.38745357081762166, 0.8183073714586362, 0.29798710545220014, 0.29798710545220014, 0.29798710545220014, 0.9451637195024254, 0.7335255005332357, 0.48595960229218305, 0.48595960229218305, 0.38376353515877554, 0.38376353515877554, 0.38376353515877554, 0.5216348618862723, 0.5216348618862723, 0.818307324977612, 0.8183074179396653, 0.7335255005332357, 0.48595960229218305, 0.48595960229218305, 0.9073723356802337, 0.5133614808451421, 0.5133614808451421, 0.7335255005332357, 0.27286485654944925, 0.27286485654944925, 0.27286485654944925, 0.27286485654944925, 0.5192143073589968, 0.7663871441206289, 0.18929573447492393, 0.37859146894984785, 0.2839436017123859, 0.09464786723746196, 0.5278922506516682, 0.2639461253258341, 0.7885534939403719, 0.3770884994365832, 0.3770884994365832, 0.41137147775199556, 0.20568573887599778, 0.20568573887599778, 0.20568573887599778, 0.9073723709100606, 0.9073723356802337, 0.8183073714586362, 0.7885534939403719, 0.5192143073589968, 0.7335255005332357, 0.7335255005332357, 0.7335255005332357, 0.4859596141629673, 0.4859596141629673, 0.818307324977612, 0.7483748893946944, 0.7335255005332357, 0.7663871441206289, 0.267643716401224, 0.267643716401224, 0.267643716401224, 0.267643716401224, 0.9073723356802337, 0.818307324977612, 0.8178348264151167, 0.49243279996295386, 0.49243279996295386, 0.5217735956819726, 0.5217735956819726, 0.5795150855225701, 0.28975754276128507, 0.7663871441206289, 0.19333695292778913, 0.5800108587833673, 0.19333695292778913, 0.7335255005332357, 0.8183073714586362, 0.5192143073589968, 0.9698607388949206, 0.4947787006084999, 0.4947787006084999, 0.7483748893946944, 0.7885534939403719, 0.7335255005332357, 0.7335255005332357, 0.818307324977612, 0.7335255005332357, 0.7335255005332357, 0.3746018697635856, 0.3746018697635856, 0.3746018697635856, 0.818307324977612, 0.4509884262516327, 0.4509884262516327, 0.7885534939403719, 0.7483748893946944, 0.7663871145966101, 0.8183074179396653, 0.725519548236004, 0.362759774118002, 0.5217736093669243, 0.5217736093669243, 0.5192143073589968, 0.7335255005332357, 0.7663871441206289, 0.725519548236004, 0.362759774118002, 0.7663871145966101, 0.9073723709100606, 0.7335255005332357, 0.38745357081762166, 0.38745357081762166, 0.38745357081762166, 0.7483748893946944, 0.7483748566392631, 0.818307324977612, 0.9073724413697226, 0.7483748893946944, 0.501490689012, 0.501490689012, 0.7335255005332357, 0.7335255005332357, 0.7663871441206289, 0.7335255005332357, 0.7335255005332357, 0.7483748566392631, 0.8282256051698194, 0.7338631128537788, 0.7483748566392631, 0.5566104508204273, 0.5566104508204273, 0.9142492151990803, 0.7740491973871289], \"Term\": [\"achieve\", \"across\", \"activity\", \"activity\", \"add\", \"addition\", \"addressed\", \"aim\", \"allocating\", \"application\", \"approach\", \"approach\", \"archetype\", \"ass\", \"assembly\", \"base\", \"brought\", \"capacity\", \"characterized\", \"choice\", \"closedloop\", \"competitive\", \"complex\", \"concern\", \"consciousness\", \"consideration\", \"consumer\", \"context\", \"continuing\", \"control\", \"control\", \"conversion\", \"corporate\", \"customer\", \"customer\", \"cycle\", \"cycle\", \"decision\", \"delivery\", \"delivery\", \"design\", \"design\", \"dimension\", \"distribution\", \"distribution\", \"distributionmarketing\", \"ecological\", \"effect\", \"efficiency\", \"emission\", \"endoflife\", \"endoflife\", \"energy\", \"enterprise\", \"entire\", \"environment\", \"environmental\", \"environmental\", \"environmental\", \"environmental\", \"environmental\", \"environmental\", \"extend\", \"final\", \"final\", \"firm\", \"fivecircled\", \"flag\", \"forward\", \"function\", \"generation\", \"green\", \"green\", \"greening\", \"greening\", \"human\", \"impact\", \"implemented\", \"important\", \"improve\", \"improve\", \"improve\", \"improving\", \"including\", \"including\", \"including\", \"increasing\", \"input\", \"integrate\", \"integrate\", \"integrating\", \"integrating\", \"integrating\", \"integration\", \"integration\", \"intended\", \"interorganizational\", \"inventory\", \"issue\", \"issue\", \"level\", \"life\", \"life\", \"lifecycle\", \"logistics\", \"logistics\", \"logistics\", \"logistics\", \"lowering\", \"making\", \"management\", \"management\", \"management\", \"management\", \"manufacturing\", \"manufacturing\", \"manufacturingmaterials\", \"market\", \"market\", \"material\", \"material\", \"material\", \"material\", \"measure\", \"mechanism\", \"monitoring\", \"new\", \"objective\", \"olympic\", \"olympics\", \"option\", \"order\", \"order\", \"organizational\", \"original\", \"output\", \"packaging\", \"performance\", \"performance\", \"performance\", \"performance\", \"plant\", \"possible\", \"practice\", \"principle\", \"principle\", \"procedure\", \"procedure\", \"process\", \"process\", \"procurement\", \"product\", \"product\", \"product\", \"production\", \"product\\u2019s\", \"profit\", \"protection\", \"purchasing\", \"purchasing\", \"purpose\", \"raising\", \"raw\", \"recovery\", \"redefining\", \"reducing\", \"refers\", \"resource\", \"resource\", \"resource\", \"responsibility\", \"reverse\", \"reverse\", \"risk\", \"say\", \"sc\", \"scm\", \"selection\", \"selection\", \"set\", \"set\", \"share\", \"shipping\", \"sound\", \"sourcing\", \"sourcing\", \"starting\", \"strategic\", \"substance\", \"supplier\", \"supplier\", \"supplier\", \"suppliers\\u2019\", \"supplychain\", \"support\", \"sustainability\", \"system\", \"thinking\", \"thinking\", \"toxic\", \"transport\", \"usable\", \"usage\", \"use\", \"useful\", \"waste\", \"way\", \"well\", \"whole\", \"whole\", \"zero\", \"\\u00fe\"]}, \"R\": 30, \"lambda.step\": 0.01, \"plot.opts\": {\"xlab\": \"PC1\", \"ylab\": \"PC2\"}, \"topic.order\": [1, 7, 5, 6, 3, 2, 4]};\n",
       "\n",
       "function LDAvis_load_lib(url, callback){\n",
       "  var s = document.createElement('script');\n",
       "  s.src = url;\n",
       "  s.async = true;\n",
       "  s.onreadystatechange = s.onload = callback;\n",
       "  s.onerror = function(){console.warn(\"failed to load library \" + url);};\n",
       "  document.getElementsByTagName(\"head\")[0].appendChild(s);\n",
       "}\n",
       "\n",
       "if(typeof(LDAvis) !== \"undefined\"){\n",
       "   // already loaded: just create the visualization\n",
       "   !function(LDAvis){\n",
       "       new LDAvis(\"#\" + \"ldavis_el114081406415229615364924732712\", ldavis_el114081406415229615364924732712_data);\n",
       "   }(LDAvis);\n",
       "}else if(typeof define === \"function\" && define.amd){\n",
       "   // require.js is available: use it to load d3/LDAvis\n",
       "   require.config({paths: {d3: \"https://d3js.org/d3.v5\"}});\n",
       "   require([\"d3\"], function(d3){\n",
       "      window.d3 = d3;\n",
       "      LDAvis_load_lib(\"https://cdn.jsdelivr.net/gh/bmabey/pyLDAvis@3.3.1/pyLDAvis/js/ldavis.v3.0.0.js\", function(){\n",
       "        new LDAvis(\"#\" + \"ldavis_el114081406415229615364924732712\", ldavis_el114081406415229615364924732712_data);\n",
       "      });\n",
       "    });\n",
       "}else{\n",
       "    // require.js not available: dynamically load d3 & LDAvis\n",
       "    LDAvis_load_lib(\"https://d3js.org/d3.v5.js\", function(){\n",
       "         LDAvis_load_lib(\"https://cdn.jsdelivr.net/gh/bmabey/pyLDAvis@3.3.1/pyLDAvis/js/ldavis.v3.0.0.js\", function(){\n",
       "                 new LDAvis(\"#\" + \"ldavis_el114081406415229615364924732712\", ldavis_el114081406415229615364924732712_data);\n",
       "            })\n",
       "         });\n",
       "}\n",
       "</script>"
      ],
      "text/plain": [
       "PreparedData(topic_coordinates=              x         y  topics  cluster       Freq\n",
       "topic                                                \n",
       "0     -0.048867  0.150915       1        1  23.494200\n",
       "6      0.169426 -0.040184       2        1  20.455327\n",
       "4      0.099921  0.013921       3        1  17.580878\n",
       "5     -0.105930 -0.115665       4        1  14.921767\n",
       "2     -0.063151 -0.010560       5        1  12.138759\n",
       "1     -0.058507  0.002109       6        1   7.482917\n",
       "3      0.007107 -0.000535       7        1   3.926153, topic_info=             Term       Freq      Total Category  logprob  loglift\n",
       "42        product  10.000000  10.000000  Default  30.0000  30.0000\n",
       "99    environment   3.000000   3.000000  Default  29.0000  29.0000\n",
       "9   environmental  10.000000  10.000000  Default  28.0000  28.0000\n",
       "78           zero   4.000000   4.000000  Default  27.0000  27.0000\n",
       "61       practice   2.000000   2.000000  Default  26.0000  26.0000\n",
       "..            ...        ...        ...      ...      ...      ...\n",
       "15      packaging   0.048213   1.304824   Topic7  -5.5215  -0.0607\n",
       "16      principle   0.048213   2.030734   Topic7  -5.5215  -0.5030\n",
       "17    procurement   0.048213   1.304824   Topic7  -5.5215  -0.0607\n",
       "18            set   0.048213   1.916540   Topic7  -5.5215  -0.4451\n",
       "19          whole   0.048213   1.796589   Topic7  -5.5215  -0.3805\n",
       "\n",
       "[303 rows x 6 columns], token_table=      Topic      Freq      Term\n",
       "term                           \n",
       "20        4  0.519214   achieve\n",
       "0         3  0.766387    across\n",
       "1         1  0.711551  activity\n",
       "1         3  0.355776  activity\n",
       "137       2  0.748375       add\n",
       "...     ...       ...       ...\n",
       "57        2  0.748375      well\n",
       "19        3  0.556610     whole\n",
       "19        6  0.556610     whole\n",
       "78        1  0.914249      zero\n",
       "40        4  0.774049         þ\n",
       "\n",
       "[212 rows x 3 columns], R=30, lambda_step=0.01, plot_opts={'xlab': 'PC1', 'ylab': 'PC2'}, topic_order=[1, 7, 5, 6, 3, 2, 4])"
      ]
     },
     "execution_count": 254,
     "metadata": {},
     "output_type": "execute_result"
    }
   ],
   "source": [
    "prepared_data_gcm"
   ]
  },
  {
   "cell_type": "code",
   "execution_count": null,
   "metadata": {},
   "outputs": [],
   "source": []
  },
  {
   "cell_type": "code",
   "execution_count": 255,
   "metadata": {
    "ExecuteTime": {
     "end_time": "2021-05-06T19:38:26.323620Z",
     "start_time": "2021-05-06T19:38:26.321735Z"
    }
   },
   "outputs": [],
   "source": [
    "# 2d list to one d\n",
    "from itertools import chain  \n",
    "#words = chain.from_iterable(df.to_list())"
   ]
  },
  {
   "cell_type": "code",
   "execution_count": 256,
   "metadata": {
    "ExecuteTime": {
     "end_time": "2021-05-06T19:38:26.359634Z",
     "start_time": "2021-05-06T19:38:26.357971Z"
    }
   },
   "outputs": [],
   "source": [
    "words = chain.from_iterable(doc_clean)"
   ]
  },
  {
   "cell_type": "code",
   "execution_count": 257,
   "metadata": {
    "ExecuteTime": {
     "end_time": "2021-05-06T19:38:26.397844Z",
     "start_time": "2021-05-06T19:38:26.393399Z"
    },
    "scrolled": true
   },
   "outputs": [
    {
     "data": {
      "text/plain": [
       "[('chain', 24),\n",
       " ('environmental', 24),\n",
       " ('supply', 22),\n",
       " ('management', 22),\n",
       " ('product', 18),\n",
       " ('social', 9),\n",
       " ('process', 9),\n",
       " ('material', 8),\n",
       " ('manufacturing', 7),\n",
       " ('economic', 6),\n",
       " ('performance', 6),\n",
       " ('environment', 6),\n",
       " ('logistics', 6),\n",
       " ('green', 6),\n",
       " ('integration', 5),\n",
       " ('sustainable', 5),\n",
       " ('design', 5),\n",
       " ('sourcing', 5),\n",
       " ('activity', 5),\n",
       " ('zero', 5),\n",
       " ('production', 4),\n",
       " ('distribution', 4),\n",
       " ('improve', 4),\n",
       " ('company', 4),\n",
       " ('taken', 4),\n",
       " ('sustainability', 4),\n",
       " ('impact', 4),\n",
       " ('selection', 4),\n",
       " ('market', 4),\n",
       " ('resource', 4),\n",
       " ('including', 4),\n",
       " ('waste', 4),\n",
       " ('interorganizational', 3),\n",
       " ('business', 3),\n",
       " ('procurement', 3),\n",
       " ('order', 3),\n",
       " ('goal', 3),\n",
       " ('dimension', 3),\n",
       " ('development', 3),\n",
       " ('account', 3),\n",
       " ('customer', 3),\n",
       " ('set', 3),\n",
       " ('issue', 3),\n",
       " ('use', 3),\n",
       " ('life', 3),\n",
       " ('cycle', 3),\n",
       " ('achieve', 3),\n",
       " ('risk', 3),\n",
       " ('þ', 3),\n",
       " ('reverse', 3)]"
      ]
     },
     "execution_count": 257,
     "metadata": {},
     "output_type": "execute_result"
    }
   ],
   "source": [
    "from collections import Counter  \n",
    "c = Counter(words)  \n",
    "c.most_common(50)"
   ]
  },
  {
   "cell_type": "code",
   "execution_count": 258,
   "metadata": {
    "ExecuteTime": {
     "end_time": "2021-05-06T19:38:27.124333Z",
     "start_time": "2021-05-06T19:38:27.119968Z"
    }
   },
   "outputs": [],
   "source": [
    "#from nltk.probability import FreqDist \n",
    "#fdist = FreqDist(words) \n",
    "#fdist.most_common(20)"
   ]
  },
  {
   "cell_type": "code",
   "execution_count": 259,
   "metadata": {
    "ExecuteTime": {
     "end_time": "2021-05-06T19:38:27.356417Z",
     "start_time": "2021-05-06T19:38:27.350146Z"
    }
   },
   "outputs": [
    {
     "data": {
      "text/plain": [
       "False"
      ]
     },
     "execution_count": 259,
     "metadata": {},
     "output_type": "execute_result"
    }
   ],
   "source": [
    "\"ra\" in words"
   ]
  },
  {
   "cell_type": "code",
   "execution_count": 260,
   "metadata": {
    "ExecuteTime": {
     "end_time": "2021-05-06T19:38:27.587282Z",
     "start_time": "2021-05-06T19:38:27.582662Z"
    }
   },
   "outputs": [
    {
     "data": {
      "text/plain": [
       "<itertools.chain at 0x7fe9a8697b20>"
      ]
     },
     "execution_count": 260,
     "metadata": {},
     "output_type": "execute_result"
    }
   ],
   "source": [
    "words"
   ]
  },
  {
   "cell_type": "code",
   "execution_count": null,
   "metadata": {},
   "outputs": [],
   "source": []
  },
  {
   "cell_type": "code",
   "execution_count": null,
   "metadata": {},
   "outputs": [],
   "source": []
  },
  {
   "cell_type": "code",
   "execution_count": null,
   "metadata": {},
   "outputs": [],
   "source": []
  }
 ],
 "metadata": {
  "kernelspec": {
   "display_name": "Python 3",
   "language": "python",
   "name": "python3"
  },
  "language_info": {
   "codemirror_mode": {
    "name": "ipython",
    "version": 3
   },
   "file_extension": ".py",
   "mimetype": "text/x-python",
   "name": "python",
   "nbconvert_exporter": "python",
   "pygments_lexer": "ipython3",
   "version": "3.8.5"
  },
  "toc": {
   "base_numbering": 1,
   "nav_menu": {},
   "number_sections": true,
   "sideBar": true,
   "skip_h1_title": false,
   "title_cell": "Table of Contents",
   "title_sidebar": "Contents",
   "toc_cell": false,
   "toc_position": {},
   "toc_section_display": true,
   "toc_window_display": false
  },
  "varInspector": {
   "cols": {
    "lenName": 16,
    "lenType": 16,
    "lenVar": 40
   },
   "kernels_config": {
    "python": {
     "delete_cmd_postfix": "",
     "delete_cmd_prefix": "del ",
     "library": "var_list.py",
     "varRefreshCmd": "print(var_dic_list())"
    },
    "r": {
     "delete_cmd_postfix": ") ",
     "delete_cmd_prefix": "rm(",
     "library": "var_list.r",
     "varRefreshCmd": "cat(var_dic_list()) "
    }
   },
   "types_to_exclude": [
    "module",
    "function",
    "builtin_function_or_method",
    "instance",
    "_Feature"
   ],
   "window_display": false
  }
 },
 "nbformat": 4,
 "nbformat_minor": 4
}
